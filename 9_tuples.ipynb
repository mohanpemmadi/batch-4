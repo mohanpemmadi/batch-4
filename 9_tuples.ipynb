{
 "cells": [
  {
   "cell_type": "markdown",
   "id": "6b5bd5b2",
   "metadata": {},
   "source": [
    "# Tuple is a collection of ordered elements and it is an immutable object"
   ]
  },
  {
   "cell_type": "code",
   "execution_count": 1,
   "id": "ba2659f1",
   "metadata": {},
   "outputs": [],
   "source": [
    "t = tuple()"
   ]
  },
  {
   "cell_type": "code",
   "execution_count": 2,
   "id": "14707fa3",
   "metadata": {},
   "outputs": [
    {
     "data": {
      "text/plain": [
       "tuple"
      ]
     },
     "execution_count": 2,
     "metadata": {},
     "output_type": "execute_result"
    }
   ],
   "source": [
    "type(t)"
   ]
  },
  {
   "cell_type": "code",
   "execution_count": 3,
   "id": "20081cad",
   "metadata": {},
   "outputs": [],
   "source": [
    "t1 = ()"
   ]
  },
  {
   "cell_type": "code",
   "execution_count": 4,
   "id": "549ccd08",
   "metadata": {},
   "outputs": [
    {
     "data": {
      "text/plain": [
       "tuple"
      ]
     },
     "execution_count": 4,
     "metadata": {},
     "output_type": "execute_result"
    }
   ],
   "source": [
    "type(t1)"
   ]
  },
  {
   "cell_type": "code",
   "execution_count": 5,
   "id": "5e77acff",
   "metadata": {},
   "outputs": [],
   "source": [
    "tpl = ('mohan',100,123.45,(1,2),True)"
   ]
  },
  {
   "cell_type": "code",
   "execution_count": 6,
   "id": "ae394121",
   "metadata": {},
   "outputs": [
    {
     "data": {
      "text/plain": [
       "tuple"
      ]
     },
     "execution_count": 6,
     "metadata": {},
     "output_type": "execute_result"
    }
   ],
   "source": [
    "type(tpl)"
   ]
  },
  {
   "cell_type": "code",
   "execution_count": 7,
   "id": "06c21fa7",
   "metadata": {},
   "outputs": [
    {
     "data": {
      "text/plain": [
       "'mohan'"
      ]
     },
     "execution_count": 7,
     "metadata": {},
     "output_type": "execute_result"
    }
   ],
   "source": [
    "tpl[0]"
   ]
  },
  {
   "cell_type": "code",
   "execution_count": 9,
   "id": "faad58d6",
   "metadata": {},
   "outputs": [
    {
     "data": {
      "text/plain": [
       "(1, 2)"
      ]
     },
     "execution_count": 9,
     "metadata": {},
     "output_type": "execute_result"
    }
   ],
   "source": [
    "tpl[3]"
   ]
  },
  {
   "cell_type": "code",
   "execution_count": 10,
   "id": "06644f94",
   "metadata": {},
   "outputs": [
    {
     "data": {
      "text/plain": [
       "(100, 123.45, (1, 2))"
      ]
     },
     "execution_count": 10,
     "metadata": {},
     "output_type": "execute_result"
    }
   ],
   "source": [
    "tpl[1:4]"
   ]
  },
  {
   "cell_type": "code",
   "execution_count": 11,
   "id": "03de682c",
   "metadata": {},
   "outputs": [
    {
     "data": {
      "text/plain": [
       "'mohan'"
      ]
     },
     "execution_count": 11,
     "metadata": {},
     "output_type": "execute_result"
    }
   ],
   "source": [
    "tpl[0]"
   ]
  },
  {
   "cell_type": "code",
   "execution_count": 12,
   "id": "b48c5920",
   "metadata": {},
   "outputs": [
    {
     "ename": "TypeError",
     "evalue": "'tuple' object does not support item assignment",
     "output_type": "error",
     "traceback": [
      "\u001b[1;31m---------------------------------------------------------------------------\u001b[0m",
      "\u001b[1;31mTypeError\u001b[0m                                 Traceback (most recent call last)",
      "Input \u001b[1;32mIn [12]\u001b[0m, in \u001b[0;36m<module>\u001b[1;34m\u001b[0m\n\u001b[1;32m----> 1\u001b[0m tpl[\u001b[38;5;241m0\u001b[39m] \u001b[38;5;241m=\u001b[39m \u001b[38;5;124m'\u001b[39m\u001b[38;5;124mSai\u001b[39m\u001b[38;5;124m'\u001b[39m\n",
      "\u001b[1;31mTypeError\u001b[0m: 'tuple' object does not support item assignment"
     ]
    }
   ],
   "source": [
    "tpl[0] = 'Sai'"
   ]
  },
  {
   "cell_type": "code",
   "execution_count": 14,
   "id": "8aec4259",
   "metadata": {},
   "outputs": [],
   "source": [
    "# dir(tpl)\n"
   ]
  },
  {
   "cell_type": "code",
   "execution_count": 15,
   "id": "6af7c477",
   "metadata": {},
   "outputs": [
    {
     "data": {
      "text/plain": [
       "('mohan', 100, 123.45, (1, 2), True)"
      ]
     },
     "execution_count": 15,
     "metadata": {},
     "output_type": "execute_result"
    }
   ],
   "source": [
    "tpl"
   ]
  },
  {
   "cell_type": "code",
   "execution_count": 16,
   "id": "6407d673",
   "metadata": {},
   "outputs": [
    {
     "data": {
      "text/plain": [
       "1"
      ]
     },
     "execution_count": 16,
     "metadata": {},
     "output_type": "execute_result"
    }
   ],
   "source": [
    "# index\n",
    "\n",
    "tpl.index(100)"
   ]
  },
  {
   "cell_type": "code",
   "execution_count": 17,
   "id": "3f6099a1",
   "metadata": {},
   "outputs": [
    {
     "data": {
      "text/plain": [
       "3"
      ]
     },
     "execution_count": 17,
     "metadata": {},
     "output_type": "execute_result"
    }
   ],
   "source": [
    "tpl.index((1,2))"
   ]
  },
  {
   "cell_type": "code",
   "execution_count": 18,
   "id": "b65f64e5",
   "metadata": {},
   "outputs": [
    {
     "data": {
      "text/plain": [
       "3"
      ]
     },
     "execution_count": 18,
     "metadata": {},
     "output_type": "execute_result"
    }
   ],
   "source": [
    "# count\n",
    "\n",
    "(1,2,1,2,1,3,4).count(1)"
   ]
  },
  {
   "cell_type": "code",
   "execution_count": 19,
   "id": "9af950e1",
   "metadata": {},
   "outputs": [
    {
     "data": {
      "text/plain": [
       "1"
      ]
     },
     "execution_count": 19,
     "metadata": {},
     "output_type": "execute_result"
    }
   ],
   "source": [
    "(1,2,1,2,1,3,4).count(4)"
   ]
  },
  {
   "cell_type": "code",
   "execution_count": null,
   "id": "dafc433c",
   "metadata": {},
   "outputs": [],
   "source": []
  }
 ],
 "metadata": {
  "kernelspec": {
   "display_name": "Python 3 (ipykernel)",
   "language": "python",
   "name": "python3"
  },
  "language_info": {
   "codemirror_mode": {
    "name": "ipython",
    "version": 3
   },
   "file_extension": ".py",
   "mimetype": "text/x-python",
   "name": "python",
   "nbconvert_exporter": "python",
   "pygments_lexer": "ipython3",
   "version": "3.8.3"
  }
 },
 "nbformat": 4,
 "nbformat_minor": 5
}
