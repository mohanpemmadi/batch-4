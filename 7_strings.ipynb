{
 "cells": [
  {
   "cell_type": "markdown",
   "id": "2c8798da",
   "metadata": {},
   "source": [
    "# String is a collection of characters"
   ]
  },
  {
   "cell_type": "code",
   "execution_count": 2,
   "id": "76d173f9",
   "metadata": {},
   "outputs": [],
   "source": [
    "st = 'python' # \"python\" "
   ]
  },
  {
   "cell_type": "code",
   "execution_count": null,
   "id": "f6661acf",
   "metadata": {},
   "outputs": [],
   "source": [
    "st"
   ]
  },
  {
   "cell_type": "code",
   "execution_count": null,
   "id": "0138656a",
   "metadata": {},
   "outputs": [],
   "source": [
    "type(st)"
   ]
  },
  {
   "cell_type": "code",
   "execution_count": null,
   "id": "88685685",
   "metadata": {},
   "outputs": [],
   "source": [
    "st1 = \"\"\"python\"\"\"  # '''python'''"
   ]
  },
  {
   "cell_type": "code",
   "execution_count": null,
   "id": "262ca21e",
   "metadata": {},
   "outputs": [],
   "source": [
    "type(st1)"
   ]
  },
  {
   "cell_type": "code",
   "execution_count": null,
   "id": "ed42ae23",
   "metadata": {},
   "outputs": [],
   "source": [
    "# slicing - slice some part of original object"
   ]
  },
  {
   "cell_type": "code",
   "execution_count": 11,
   "id": "9e4aa1d2",
   "metadata": {},
   "outputs": [],
   "source": [
    "# index\n",
    "\n",
    "#  p   y   t   h   o   n\n",
    "#  0   1   2   3   4   5\n",
    "#  -6 -5  -4  -3  -2  -1"
   ]
  },
  {
   "cell_type": "code",
   "execution_count": 7,
   "id": "c92f1b0b",
   "metadata": {},
   "outputs": [
    {
     "data": {
      "text/plain": [
       "'python'"
      ]
     },
     "execution_count": 7,
     "metadata": {},
     "output_type": "execute_result"
    }
   ],
   "source": [
    "st"
   ]
  },
  {
   "cell_type": "code",
   "execution_count": 6,
   "id": "94045724",
   "metadata": {},
   "outputs": [
    {
     "data": {
      "text/plain": [
       "'p'"
      ]
     },
     "execution_count": 6,
     "metadata": {},
     "output_type": "execute_result"
    }
   ],
   "source": [
    "st[0]"
   ]
  },
  {
   "cell_type": "code",
   "execution_count": 5,
   "id": "24489181",
   "metadata": {},
   "outputs": [
    {
     "data": {
      "text/plain": [
       "'h'"
      ]
     },
     "execution_count": 5,
     "metadata": {},
     "output_type": "execute_result"
    }
   ],
   "source": [
    "st[3]"
   ]
  },
  {
   "cell_type": "code",
   "execution_count": 4,
   "id": "62c521f9",
   "metadata": {},
   "outputs": [
    {
     "data": {
      "text/plain": [
       "'n'"
      ]
     },
     "execution_count": 4,
     "metadata": {},
     "output_type": "execute_result"
    }
   ],
   "source": [
    "st[5]"
   ]
  },
  {
   "cell_type": "code",
   "execution_count": 3,
   "id": "839ca880",
   "metadata": {},
   "outputs": [
    {
     "data": {
      "text/plain": [
       "'n'"
      ]
     },
     "execution_count": 3,
     "metadata": {},
     "output_type": "execute_result"
    }
   ],
   "source": [
    "st[-1]"
   ]
  },
  {
   "cell_type": "code",
   "execution_count": 8,
   "id": "c9615e5b",
   "metadata": {},
   "outputs": [
    {
     "data": {
      "text/plain": [
       "'t'"
      ]
     },
     "execution_count": 8,
     "metadata": {},
     "output_type": "execute_result"
    }
   ],
   "source": [
    "st[-4]"
   ]
  },
  {
   "cell_type": "code",
   "execution_count": 14,
   "id": "bfb6da5d",
   "metadata": {},
   "outputs": [],
   "source": [
    "# index\n",
    "\n",
    "#  p   y   t   h   o   n\n",
    "#  0   1   2   3   4   5\n",
    "#  -6 -5  -4  -3  -2  -1"
   ]
  },
  {
   "cell_type": "code",
   "execution_count": 9,
   "id": "fb21eab3",
   "metadata": {},
   "outputs": [],
   "source": [
    "# variablename[start:end:step]"
   ]
  },
  {
   "cell_type": "code",
   "execution_count": 12,
   "id": "8eedae27",
   "metadata": {},
   "outputs": [
    {
     "data": {
      "text/plain": [
       "'pyth'"
      ]
     },
     "execution_count": 12,
     "metadata": {},
     "output_type": "execute_result"
    }
   ],
   "source": [
    "st[0:4]"
   ]
  },
  {
   "cell_type": "code",
   "execution_count": 15,
   "id": "a2386ed2",
   "metadata": {},
   "outputs": [
    {
     "data": {
      "text/plain": [
       "'yt'"
      ]
     },
     "execution_count": 15,
     "metadata": {},
     "output_type": "execute_result"
    }
   ],
   "source": [
    "st[1:3]"
   ]
  },
  {
   "cell_type": "code",
   "execution_count": 16,
   "id": "bf6312e5",
   "metadata": {},
   "outputs": [
    {
     "data": {
      "text/plain": [
       "'ytho'"
      ]
     },
     "execution_count": 16,
     "metadata": {},
     "output_type": "execute_result"
    }
   ],
   "source": [
    "st[1:5]"
   ]
  },
  {
   "cell_type": "code",
   "execution_count": 17,
   "id": "2fea6835",
   "metadata": {},
   "outputs": [
    {
     "data": {
      "text/plain": [
       "'yh'"
      ]
     },
     "execution_count": 17,
     "metadata": {},
     "output_type": "execute_result"
    }
   ],
   "source": [
    "st[1:5:2]"
   ]
  },
  {
   "cell_type": "code",
   "execution_count": 18,
   "id": "6edb0424",
   "metadata": {},
   "outputs": [
    {
     "data": {
      "text/plain": [
       "'pyth'"
      ]
     },
     "execution_count": 18,
     "metadata": {},
     "output_type": "execute_result"
    }
   ],
   "source": [
    "st[:4]"
   ]
  },
  {
   "cell_type": "code",
   "execution_count": 19,
   "id": "da45b297",
   "metadata": {},
   "outputs": [
    {
     "data": {
      "text/plain": [
       "'ython'"
      ]
     },
     "execution_count": 19,
     "metadata": {},
     "output_type": "execute_result"
    }
   ],
   "source": [
    "st[1:]"
   ]
  },
  {
   "cell_type": "code",
   "execution_count": null,
   "id": "1dd847d7",
   "metadata": {},
   "outputs": [],
   "source": [
    "st"
   ]
  }
 ],
 "metadata": {
  "kernelspec": {
   "display_name": "Python 3 (ipykernel)",
   "language": "python",
   "name": "python3"
  },
  "language_info": {
   "codemirror_mode": {
    "name": "ipython",
    "version": 3
   },
   "file_extension": ".py",
   "mimetype": "text/x-python",
   "name": "python",
   "nbconvert_exporter": "python",
   "pygments_lexer": "ipython3",
   "version": "3.8.3"
  }
 },
 "nbformat": 4,
 "nbformat_minor": 5
}
