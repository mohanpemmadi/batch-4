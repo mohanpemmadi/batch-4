{
 "cells": [
  {
   "cell_type": "markdown",
   "id": "5121f8f6",
   "metadata": {},
   "source": [
    "# IF"
   ]
  },
  {
   "cell_type": "code",
   "execution_count": 13,
   "id": "d581e83a",
   "metadata": {},
   "outputs": [
    {
     "name": "stdout",
     "output_type": "stream",
     "text": [
      "in\n"
     ]
    }
   ],
   "source": [
    "if True:\n",
    "    print('in')"
   ]
  },
  {
   "cell_type": "code",
   "execution_count": 7,
   "id": "e656d181",
   "metadata": {},
   "outputs": [],
   "source": [
    "if False:\n",
    "    print('not in')"
   ]
  },
  {
   "cell_type": "code",
   "execution_count": 8,
   "id": "04fd0131",
   "metadata": {},
   "outputs": [],
   "source": [
    "x = 200\n",
    "y = 300\n",
    "z = 200"
   ]
  },
  {
   "cell_type": "code",
   "execution_count": 9,
   "id": "bab1738c",
   "metadata": {},
   "outputs": [
    {
     "data": {
      "text/plain": [
       "False"
      ]
     },
     "execution_count": 9,
     "metadata": {},
     "output_type": "execute_result"
    }
   ],
   "source": [
    "x == y"
   ]
  },
  {
   "cell_type": "code",
   "execution_count": 10,
   "id": "43bbcf17",
   "metadata": {},
   "outputs": [
    {
     "data": {
      "text/plain": [
       "True"
      ]
     },
     "execution_count": 10,
     "metadata": {},
     "output_type": "execute_result"
    }
   ],
   "source": [
    "x == z"
   ]
  },
  {
   "cell_type": "code",
   "execution_count": 11,
   "id": "05d476c0",
   "metadata": {},
   "outputs": [],
   "source": [
    "if x == y: # 200 == 300\n",
    "    print('both numbers are same')"
   ]
  },
  {
   "cell_type": "code",
   "execution_count": 12,
   "id": "13bc002a",
   "metadata": {},
   "outputs": [
    {
     "name": "stdout",
     "output_type": "stream",
     "text": [
      "both numbers are same\n"
     ]
    }
   ],
   "source": [
    "if x == z: # 200 == 200\n",
    "    print('both numbers are same')"
   ]
  },
  {
   "cell_type": "code",
   "execution_count": 14,
   "id": "21193eb0",
   "metadata": {},
   "outputs": [],
   "source": [
    "name = 'mohan'\n",
    "age = 30"
   ]
  },
  {
   "cell_type": "code",
   "execution_count": 15,
   "id": "2013a789",
   "metadata": {},
   "outputs": [
    {
     "name": "stdout",
     "output_type": "stream",
     "text": [
      "one\n",
      "three\n"
     ]
    }
   ],
   "source": [
    "if name == 'mohan':\n",
    "    print('one')\n",
    "    \n",
    "if name == 'ravi':\n",
    "    print('two')\n",
    "    \n",
    "if age > 25: \n",
    "    print('three')"
   ]
  },
  {
   "cell_type": "markdown",
   "id": "59e79838",
   "metadata": {},
   "source": [
    "# if - else"
   ]
  },
  {
   "cell_type": "code",
   "execution_count": 18,
   "id": "dd56d1d3",
   "metadata": {},
   "outputs": [
    {
     "name": "stdout",
     "output_type": "stream",
     "text": [
      "else statement\n"
     ]
    }
   ],
   "source": [
    "x = 100\n",
    "y = 200\n",
    "z = 100\n",
    "\n",
    "\n",
    "if x == y:\n",
    "    print('if statement')\n",
    "else:\n",
    "    print('else statement')\n",
    "    "
   ]
  },
  {
   "cell_type": "code",
   "execution_count": 17,
   "id": "8cd5cf5d",
   "metadata": {},
   "outputs": [
    {
     "data": {
      "text/plain": [
       "False"
      ]
     },
     "execution_count": 17,
     "metadata": {},
     "output_type": "execute_result"
    }
   ],
   "source": [
    "x == y"
   ]
  },
  {
   "cell_type": "code",
   "execution_count": 19,
   "id": "78f7d8cd",
   "metadata": {},
   "outputs": [
    {
     "data": {
      "text/plain": [
       "True"
      ]
     },
     "execution_count": 19,
     "metadata": {},
     "output_type": "execute_result"
    }
   ],
   "source": [
    "x == z"
   ]
  },
  {
   "cell_type": "code",
   "execution_count": 20,
   "id": "75221c81",
   "metadata": {},
   "outputs": [
    {
     "name": "stdout",
     "output_type": "stream",
     "text": [
      "if statement\n"
     ]
    }
   ],
   "source": [
    "if x == z:\n",
    "    print('if statement')\n",
    "else:\n",
    "    print('else statement')"
   ]
  },
  {
   "cell_type": "code",
   "execution_count": 21,
   "id": "c1b463fd",
   "metadata": {},
   "outputs": [
    {
     "name": "stdout",
     "output_type": "stream",
     "text": [
      "one\n",
      "two\n"
     ]
    }
   ],
   "source": [
    "if x == z:\n",
    "    print('one')\n",
    "if y > z:\n",
    "    print('two')\n",
    "else:\n",
    "    print('three')"
   ]
  },
  {
   "cell_type": "code",
   "execution_count": 22,
   "id": "9506b93b",
   "metadata": {},
   "outputs": [
    {
     "name": "stdout",
     "output_type": "stream",
     "text": [
      "one\n",
      "three\n"
     ]
    }
   ],
   "source": [
    "if x == z:\n",
    "    print('one')\n",
    "if z > y:\n",
    "    print('two')\n",
    "else:\n",
    "    print('three')"
   ]
  },
  {
   "cell_type": "code",
   "execution_count": 23,
   "id": "52fe2803",
   "metadata": {},
   "outputs": [],
   "source": [
    "lst = [123,'sai',10,True,12.34]"
   ]
  },
  {
   "cell_type": "code",
   "execution_count": 24,
   "id": "4d3c57f8",
   "metadata": {},
   "outputs": [
    {
     "name": "stdout",
     "output_type": "stream",
     "text": [
      "element is in list\n"
     ]
    }
   ],
   "source": [
    "if 'sai' in lst:\n",
    "    print('element is in list')"
   ]
  },
  {
   "cell_type": "code",
   "execution_count": 25,
   "id": "9f203b14",
   "metadata": {},
   "outputs": [
    {
     "data": {
      "text/plain": [
       "True"
      ]
     },
     "execution_count": 25,
     "metadata": {},
     "output_type": "execute_result"
    }
   ],
   "source": [
    "'sai' in lst"
   ]
  },
  {
   "cell_type": "code",
   "execution_count": 28,
   "id": "c04f9c29",
   "metadata": {},
   "outputs": [],
   "source": [
    "value = 10\n",
    "value2 = 44"
   ]
  },
  {
   "cell_type": "code",
   "execution_count": 27,
   "id": "3fb711fd",
   "metadata": {},
   "outputs": [
    {
     "name": "stdout",
     "output_type": "stream",
     "text": [
      "element is in list\n"
     ]
    }
   ],
   "source": [
    "if value in lst:\n",
    "    print('element is in list')"
   ]
  },
  {
   "cell_type": "code",
   "execution_count": 30,
   "id": "a44292bc",
   "metadata": {},
   "outputs": [
    {
     "name": "stdout",
     "output_type": "stream",
     "text": [
      "not in list\n"
     ]
    }
   ],
   "source": [
    "if value2 in lst:\n",
    "    print('element is in list')\n",
    "else:\n",
    "    print('not in list')"
   ]
  },
  {
   "cell_type": "code",
   "execution_count": 31,
   "id": "64ee0b84",
   "metadata": {},
   "outputs": [],
   "source": [
    "dt = {'name': 'sai','age':30,123:456}"
   ]
  },
  {
   "cell_type": "code",
   "execution_count": 32,
   "id": "abb4e66b",
   "metadata": {},
   "outputs": [
    {
     "data": {
      "text/plain": [
       "True"
      ]
     },
     "execution_count": 32,
     "metadata": {},
     "output_type": "execute_result"
    }
   ],
   "source": [
    "'name' in dt"
   ]
  },
  {
   "cell_type": "code",
   "execution_count": 33,
   "id": "7aa5672b",
   "metadata": {},
   "outputs": [
    {
     "data": {
      "text/plain": [
       "True"
      ]
     },
     "execution_count": 33,
     "metadata": {},
     "output_type": "execute_result"
    }
   ],
   "source": [
    "123 in dt"
   ]
  },
  {
   "cell_type": "code",
   "execution_count": 34,
   "id": "885f4483",
   "metadata": {},
   "outputs": [
    {
     "data": {
      "text/plain": [
       "False"
      ]
     },
     "execution_count": 34,
     "metadata": {},
     "output_type": "execute_result"
    }
   ],
   "source": [
    "'salary' in dt"
   ]
  },
  {
   "cell_type": "code",
   "execution_count": 35,
   "id": "32068332",
   "metadata": {},
   "outputs": [
    {
     "name": "stdout",
     "output_type": "stream",
     "text": [
      "key exists\n"
     ]
    }
   ],
   "source": [
    "if 'name' in dt:\n",
    "    print('key exists')\n",
    "else:\n",
    "    print('not exists')"
   ]
  },
  {
   "cell_type": "code",
   "execution_count": 36,
   "id": "19549c96",
   "metadata": {},
   "outputs": [
    {
     "name": "stdout",
     "output_type": "stream",
     "text": [
      "not exists\n"
     ]
    }
   ],
   "source": [
    "if 'salary' in dt:\n",
    "    print('key exists')\n",
    "else:\n",
    "    print('not exists')"
   ]
  },
  {
   "cell_type": "code",
   "execution_count": 37,
   "id": "eedd3aa6",
   "metadata": {},
   "outputs": [
    {
     "data": {
      "text/plain": [
       "100"
      ]
     },
     "execution_count": 37,
     "metadata": {},
     "output_type": "execute_result"
    }
   ],
   "source": [
    "x"
   ]
  },
  {
   "cell_type": "code",
   "execution_count": 38,
   "id": "cbd1af2c",
   "metadata": {},
   "outputs": [
    {
     "data": {
      "text/plain": [
       "200"
      ]
     },
     "execution_count": 38,
     "metadata": {},
     "output_type": "execute_result"
    }
   ],
   "source": [
    "y"
   ]
  },
  {
   "cell_type": "code",
   "execution_count": 39,
   "id": "daf715f6",
   "metadata": {},
   "outputs": [
    {
     "data": {
      "text/plain": [
       "100"
      ]
     },
     "execution_count": 39,
     "metadata": {},
     "output_type": "execute_result"
    }
   ],
   "source": [
    "z"
   ]
  },
  {
   "cell_type": "code",
   "execution_count": 40,
   "id": "6f6c22fd",
   "metadata": {},
   "outputs": [
    {
     "data": {
      "text/plain": [
       "False"
      ]
     },
     "execution_count": 40,
     "metadata": {},
     "output_type": "execute_result"
    }
   ],
   "source": [
    "x is y"
   ]
  },
  {
   "cell_type": "code",
   "execution_count": 41,
   "id": "71aa07d3",
   "metadata": {},
   "outputs": [
    {
     "data": {
      "text/plain": [
       "True"
      ]
     },
     "execution_count": 41,
     "metadata": {},
     "output_type": "execute_result"
    }
   ],
   "source": [
    "x is z"
   ]
  },
  {
   "cell_type": "markdown",
   "id": "0239991a",
   "metadata": {},
   "source": [
    "# if elif else"
   ]
  },
  {
   "cell_type": "code",
   "execution_count": 42,
   "id": "643263a9",
   "metadata": {},
   "outputs": [],
   "source": [
    "value1 = 100\n",
    "value2 = 200\n",
    "value3 = 200\n"
   ]
  },
  {
   "cell_type": "code",
   "execution_count": 44,
   "id": "afedede3",
   "metadata": {},
   "outputs": [
    {
     "name": "stdout",
     "output_type": "stream",
     "text": [
      "one\n",
      "three\n",
      "four\n"
     ]
    }
   ],
   "source": [
    "if value1 >= 100:\n",
    "    print('one')\n",
    "if value1 == value2:\n",
    "    print('two')\n",
    "if value2 == value3:\n",
    "    print('three')\n",
    "if value3 > 150:\n",
    "    print('four')\n",
    "else:\n",
    "    print('five')"
   ]
  },
  {
   "cell_type": "code",
   "execution_count": 47,
   "id": "92003fb7",
   "metadata": {},
   "outputs": [
    {
     "name": "stdout",
     "output_type": "stream",
     "text": [
      "four\n"
     ]
    }
   ],
   "source": [
    "if value1 == 150:\n",
    "    print('one')\n",
    "elif value1 == value2:\n",
    "    print('two')\n",
    "elif value2 == value1:\n",
    "    print('three')\n",
    "elif value3 > 150:\n",
    "    print('four')\n",
    "else:\n",
    "    print('five')"
   ]
  },
  {
   "cell_type": "code",
   "execution_count": 48,
   "id": "a5b526a1",
   "metadata": {},
   "outputs": [
    {
     "name": "stdout",
     "output_type": "stream",
     "text": [
      "one\n"
     ]
    }
   ],
   "source": [
    "if value1 == 100:\n",
    "    print('one')\n",
    "elif value1 == value2:\n",
    "    print('two')\n",
    "elif value2 == value1:\n",
    "    print('three')\n",
    "elif value3 > 150:\n",
    "    print('four')\n",
    "else:\n",
    "    print('five')"
   ]
  },
  {
   "cell_type": "code",
   "execution_count": 49,
   "id": "7522005d",
   "metadata": {},
   "outputs": [
    {
     "name": "stdout",
     "output_type": "stream",
     "text": [
      "five\n"
     ]
    }
   ],
   "source": [
    "if value1 == 1000:\n",
    "    print('one')\n",
    "elif value1 == value2:\n",
    "    print('two')\n",
    "elif value2 == value1:\n",
    "    print('three')\n",
    "elif value3 == 150:\n",
    "    print('four')\n",
    "else:\n",
    "    print('five')"
   ]
  },
  {
   "cell_type": "code",
   "execution_count": null,
   "id": "bbe3ef4c",
   "metadata": {},
   "outputs": [],
   "source": []
  }
 ],
 "metadata": {
  "kernelspec": {
   "display_name": "Python 3 (ipykernel)",
   "language": "python",
   "name": "python3"
  },
  "language_info": {
   "codemirror_mode": {
    "name": "ipython",
    "version": 3
   },
   "file_extension": ".py",
   "mimetype": "text/x-python",
   "name": "python",
   "nbconvert_exporter": "python",
   "pygments_lexer": "ipython3",
   "version": "3.8.3"
  }
 },
 "nbformat": 4,
 "nbformat_minor": 5
}
