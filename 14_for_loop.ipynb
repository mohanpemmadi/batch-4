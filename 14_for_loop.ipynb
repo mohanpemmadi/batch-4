{
 "cells": [
  {
   "cell_type": "markdown",
   "id": "536d7fba",
   "metadata": {},
   "source": [
    "# Range"
   ]
  },
  {
   "cell_type": "code",
   "execution_count": 3,
   "id": "df7d6449",
   "metadata": {},
   "outputs": [
    {
     "name": "stdout",
     "output_type": "stream",
     "text": [
      "0\n",
      "1\n",
      "2\n",
      "3\n",
      "4\n",
      "5\n",
      "6\n",
      "7\n",
      "8\n",
      "9\n"
     ]
    }
   ],
   "source": [
    "for value in range(10):\n",
    "    print(value)"
   ]
  },
  {
   "cell_type": "code",
   "execution_count": 2,
   "id": "4363956e",
   "metadata": {},
   "outputs": [
    {
     "data": {
      "text/plain": [
       "range(0, 10)"
      ]
     },
     "execution_count": 2,
     "metadata": {},
     "output_type": "execute_result"
    }
   ],
   "source": [
    "range(10)"
   ]
  },
  {
   "cell_type": "code",
   "execution_count": 4,
   "id": "3b2ab9ea",
   "metadata": {},
   "outputs": [
    {
     "data": {
      "text/plain": [
       "range(2, 12, 2)"
      ]
     },
     "execution_count": 4,
     "metadata": {},
     "output_type": "execute_result"
    }
   ],
   "source": [
    "range(2,12,2)"
   ]
  },
  {
   "cell_type": "code",
   "execution_count": 8,
   "id": "4ee12c68",
   "metadata": {},
   "outputs": [
    {
     "name": "stdout",
     "output_type": "stream",
     "text": [
      "2\n",
      "4\n",
      "6\n",
      "8\n",
      "10\n",
      "12\n",
      "14\n",
      "16\n",
      "18\n",
      "20\n"
     ]
    }
   ],
   "source": [
    "for temp in range(2,21,2):\n",
    "    print(temp)"
   ]
  },
  {
   "cell_type": "markdown",
   "id": "a5c82a5b",
   "metadata": {},
   "source": [
    "# Strings"
   ]
  },
  {
   "cell_type": "code",
   "execution_count": 9,
   "id": "95b3bad2",
   "metadata": {},
   "outputs": [
    {
     "name": "stdout",
     "output_type": "stream",
     "text": [
      "p\n",
      "y\n",
      "t\n",
      "h\n",
      "o\n",
      "n\n"
     ]
    }
   ],
   "source": [
    "st = \"python\"\n",
    "\n",
    "for char in st:\n",
    "    print(char)"
   ]
  },
  {
   "cell_type": "code",
   "execution_count": 11,
   "id": "18c02697",
   "metadata": {},
   "outputs": [
    {
     "name": "stdout",
     "output_type": "stream",
     "text": [
      "p\n",
      "P\n",
      "#################\n",
      "y\n",
      "Y\n",
      "#################\n",
      "t\n",
      "T\n",
      "#################\n",
      "h\n",
      "H\n",
      "#################\n",
      "o\n",
      "O\n",
      "#################\n",
      "n\n",
      "N\n",
      "#################\n"
     ]
    }
   ],
   "source": [
    "for i in st:\n",
    "    print(i)\n",
    "    print(i.upper())\n",
    "    print('#################')"
   ]
  },
  {
   "cell_type": "markdown",
   "id": "66474d7c",
   "metadata": {},
   "source": [
    "# list"
   ]
  },
  {
   "cell_type": "code",
   "execution_count": 13,
   "id": "e3e63bcf",
   "metadata": {},
   "outputs": [
    {
     "name": "stdout",
     "output_type": "stream",
     "text": [
      "sai\n",
      "$$$$$$$$$$\n",
      "123\n",
      "$$$$$$$$$$\n",
      "45.67\n",
      "$$$$$$$$$$\n"
     ]
    }
   ],
   "source": [
    "lst = ['sai',123,45.67]\n",
    "\n",
    "for i in lst:\n",
    "    print(i)\n",
    "    print('$$$$$$$$$$')"
   ]
  },
  {
   "cell_type": "markdown",
   "id": "7166b7e6",
   "metadata": {},
   "source": [
    "# tuple"
   ]
  },
  {
   "cell_type": "code",
   "execution_count": 14,
   "id": "d27e36d3",
   "metadata": {},
   "outputs": [
    {
     "name": "stdout",
     "output_type": "stream",
     "text": [
      "sai\n",
      "$$$$$$$$$$\n",
      "123\n",
      "$$$$$$$$$$\n",
      "45.67\n",
      "$$$$$$$$$$\n"
     ]
    }
   ],
   "source": [
    "tpl = ('sai',123,45.67)\n",
    "\n",
    "for ele in tpl:\n",
    "    print(ele)\n",
    "    print('$$$$$$$$$$')"
   ]
  },
  {
   "cell_type": "markdown",
   "id": "9e951023",
   "metadata": {},
   "source": [
    "# dict"
   ]
  },
  {
   "cell_type": "code",
   "execution_count": 15,
   "id": "b1f9676c",
   "metadata": {},
   "outputs": [
    {
     "name": "stdout",
     "output_type": "stream",
     "text": [
      "name\n",
      "****************\n",
      "age\n",
      "****************\n",
      "active\n",
      "****************\n"
     ]
    }
   ],
   "source": [
    "dt = {'name':'abc','age':12,'active':True}\n",
    "\n",
    "for xyz in dt:\n",
    "    print(xyz)\n",
    "    print('****************')"
   ]
  },
  {
   "cell_type": "code",
   "execution_count": 16,
   "id": "f5db023f",
   "metadata": {},
   "outputs": [
    {
     "data": {
      "text/plain": [
       "'abc'"
      ]
     },
     "execution_count": 16,
     "metadata": {},
     "output_type": "execute_result"
    }
   ],
   "source": [
    "dt['name']"
   ]
  },
  {
   "cell_type": "code",
   "execution_count": 18,
   "id": "3b82775e",
   "metadata": {},
   "outputs": [
    {
     "name": "stdout",
     "output_type": "stream",
     "text": [
      "name\n",
      "abc\n",
      "****************\n",
      "age\n",
      "12\n",
      "****************\n",
      "active\n",
      "True\n",
      "****************\n"
     ]
    }
   ],
   "source": [
    "for xyz in dt:\n",
    "    print(xyz)       # age\n",
    "    print(dt[xyz])   # dt[age]\n",
    "    print('****************')"
   ]
  },
  {
   "cell_type": "code",
   "execution_count": null,
   "id": "0776f625",
   "metadata": {},
   "outputs": [],
   "source": []
  }
 ],
 "metadata": {
  "kernelspec": {
   "display_name": "Python 3 (ipykernel)",
   "language": "python",
   "name": "python3"
  },
  "language_info": {
   "codemirror_mode": {
    "name": "ipython",
    "version": 3
   },
   "file_extension": ".py",
   "mimetype": "text/x-python",
   "name": "python",
   "nbconvert_exporter": "python",
   "pygments_lexer": "ipython3",
   "version": "3.8.3"
  }
 },
 "nbformat": 4,
 "nbformat_minor": 5
}
