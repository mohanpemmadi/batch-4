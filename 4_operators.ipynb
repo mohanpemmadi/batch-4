{
 "cells": [
  {
   "cell_type": "code",
   "execution_count": 1,
   "id": "73d28722",
   "metadata": {},
   "outputs": [],
   "source": [
    "# Arithmetic Operators -> +,-,*,%"
   ]
  },
  {
   "cell_type": "code",
   "execution_count": 2,
   "id": "509085d5",
   "metadata": {},
   "outputs": [],
   "source": [
    "x = 20\n",
    "y = 5"
   ]
  },
  {
   "cell_type": "code",
   "execution_count": 3,
   "id": "89b7de34",
   "metadata": {},
   "outputs": [
    {
     "data": {
      "text/plain": [
       "25"
      ]
     },
     "execution_count": 3,
     "metadata": {},
     "output_type": "execute_result"
    }
   ],
   "source": [
    "x+y"
   ]
  },
  {
   "cell_type": "code",
   "execution_count": 4,
   "id": "6eb812d7",
   "metadata": {},
   "outputs": [
    {
     "data": {
      "text/plain": [
       "15"
      ]
     },
     "execution_count": 4,
     "metadata": {},
     "output_type": "execute_result"
    }
   ],
   "source": [
    "x-y"
   ]
  },
  {
   "cell_type": "code",
   "execution_count": 5,
   "id": "4cd5ff01",
   "metadata": {},
   "outputs": [
    {
     "data": {
      "text/plain": [
       "100"
      ]
     },
     "execution_count": 5,
     "metadata": {},
     "output_type": "execute_result"
    }
   ],
   "source": [
    "x*y"
   ]
  },
  {
   "cell_type": "code",
   "execution_count": 6,
   "id": "b21c3b17",
   "metadata": {},
   "outputs": [
    {
     "data": {
      "text/plain": [
       "4.0"
      ]
     },
     "execution_count": 6,
     "metadata": {},
     "output_type": "execute_result"
    }
   ],
   "source": [
    "x/y"
   ]
  },
  {
   "cell_type": "code",
   "execution_count": 7,
   "id": "ceec1977",
   "metadata": {},
   "outputs": [
    {
     "data": {
      "text/plain": [
       "0"
      ]
     },
     "execution_count": 7,
     "metadata": {},
     "output_type": "execute_result"
    }
   ],
   "source": [
    "x%y"
   ]
  },
  {
   "cell_type": "code",
   "execution_count": 8,
   "id": "490d06ba",
   "metadata": {},
   "outputs": [
    {
     "data": {
      "text/plain": [
       "4.2"
      ]
     },
     "execution_count": 8,
     "metadata": {},
     "output_type": "execute_result"
    }
   ],
   "source": [
    "21/5"
   ]
  },
  {
   "cell_type": "code",
   "execution_count": 9,
   "id": "5196423c",
   "metadata": {},
   "outputs": [
    {
     "data": {
      "text/plain": [
       "1"
      ]
     },
     "execution_count": 9,
     "metadata": {},
     "output_type": "execute_result"
    }
   ],
   "source": [
    "21%5"
   ]
  },
  {
   "cell_type": "code",
   "execution_count": 10,
   "id": "dea0fdf2",
   "metadata": {},
   "outputs": [
    {
     "data": {
      "text/plain": [
       "8"
      ]
     },
     "execution_count": 10,
     "metadata": {},
     "output_type": "execute_result"
    }
   ],
   "source": [
    "2**3  # 2*2*2"
   ]
  },
  {
   "cell_type": "code",
   "execution_count": 11,
   "id": "a1e810b1",
   "metadata": {},
   "outputs": [
    {
     "data": {
      "text/plain": [
       "25"
      ]
     },
     "execution_count": 11,
     "metadata": {},
     "output_type": "execute_result"
    }
   ],
   "source": [
    "5**2 # 5 *5"
   ]
  },
  {
   "cell_type": "code",
   "execution_count": 12,
   "id": "1d523b46",
   "metadata": {},
   "outputs": [
    {
     "data": {
      "text/plain": [
       "4.2"
      ]
     },
     "execution_count": 12,
     "metadata": {},
     "output_type": "execute_result"
    }
   ],
   "source": [
    "21/5"
   ]
  },
  {
   "cell_type": "code",
   "execution_count": 13,
   "id": "629df76f",
   "metadata": {},
   "outputs": [
    {
     "data": {
      "text/plain": [
       "4"
      ]
     },
     "execution_count": 13,
     "metadata": {},
     "output_type": "execute_result"
    }
   ],
   "source": [
    "21//5 #"
   ]
  },
  {
   "cell_type": "code",
   "execution_count": 14,
   "id": "e88c577c",
   "metadata": {},
   "outputs": [],
   "source": [
    "# Assignment Operators"
   ]
  },
  {
   "cell_type": "code",
   "execution_count": 15,
   "id": "7b6f57eb",
   "metadata": {},
   "outputs": [],
   "source": [
    "# =\n",
    "x = 5"
   ]
  },
  {
   "cell_type": "code",
   "execution_count": 16,
   "id": "b74352a6",
   "metadata": {},
   "outputs": [
    {
     "data": {
      "text/plain": [
       "5"
      ]
     },
     "execution_count": 16,
     "metadata": {},
     "output_type": "execute_result"
    }
   ],
   "source": [
    "x"
   ]
  },
  {
   "cell_type": "code",
   "execution_count": 17,
   "id": "29c88c14",
   "metadata": {},
   "outputs": [],
   "source": [
    "# +=\n",
    "\n",
    "x +=2  # x = x+2"
   ]
  },
  {
   "cell_type": "code",
   "execution_count": 18,
   "id": "9d5ab8cf",
   "metadata": {},
   "outputs": [
    {
     "data": {
      "text/plain": [
       "7"
      ]
     },
     "execution_count": 18,
     "metadata": {},
     "output_type": "execute_result"
    }
   ],
   "source": [
    "x"
   ]
  },
  {
   "cell_type": "code",
   "execution_count": 19,
   "id": "c73f5b29",
   "metadata": {},
   "outputs": [],
   "source": [
    "# -=\n",
    "\n",
    "x -= 3 # x = x-3"
   ]
  },
  {
   "cell_type": "code",
   "execution_count": 20,
   "id": "f95d8e9e",
   "metadata": {},
   "outputs": [
    {
     "data": {
      "text/plain": [
       "4"
      ]
     },
     "execution_count": 20,
     "metadata": {},
     "output_type": "execute_result"
    }
   ],
   "source": [
    "x"
   ]
  },
  {
   "cell_type": "code",
   "execution_count": 21,
   "id": "91e87807",
   "metadata": {},
   "outputs": [],
   "source": [
    "# comparison operators"
   ]
  },
  {
   "cell_type": "code",
   "execution_count": 22,
   "id": "e5c2538c",
   "metadata": {},
   "outputs": [],
   "source": [
    "# ==\n",
    "\n",
    "x = 10\n",
    "y = 15\n",
    "z = 10"
   ]
  },
  {
   "cell_type": "code",
   "execution_count": 23,
   "id": "346e3ff2",
   "metadata": {},
   "outputs": [
    {
     "data": {
      "text/plain": [
       "False"
      ]
     },
     "execution_count": 23,
     "metadata": {},
     "output_type": "execute_result"
    }
   ],
   "source": [
    "x == y"
   ]
  },
  {
   "cell_type": "code",
   "execution_count": 24,
   "id": "42545600",
   "metadata": {},
   "outputs": [
    {
     "data": {
      "text/plain": [
       "True"
      ]
     },
     "execution_count": 24,
     "metadata": {},
     "output_type": "execute_result"
    }
   ],
   "source": [
    "x == z"
   ]
  },
  {
   "cell_type": "code",
   "execution_count": 25,
   "id": "c0365c07",
   "metadata": {},
   "outputs": [
    {
     "data": {
      "text/plain": [
       "True"
      ]
     },
     "execution_count": 25,
     "metadata": {},
     "output_type": "execute_result"
    }
   ],
   "source": [
    "# !=\n",
    "\n",
    "x != y # 10 != 15"
   ]
  },
  {
   "cell_type": "code",
   "execution_count": 26,
   "id": "f750804f",
   "metadata": {},
   "outputs": [
    {
     "data": {
      "text/plain": [
       "False"
      ]
     },
     "execution_count": 26,
     "metadata": {},
     "output_type": "execute_result"
    }
   ],
   "source": [
    "x != z # 10 != 10"
   ]
  },
  {
   "cell_type": "code",
   "execution_count": 27,
   "id": "78ca0984",
   "metadata": {},
   "outputs": [
    {
     "data": {
      "text/plain": [
       "True"
      ]
     },
     "execution_count": 27,
     "metadata": {},
     "output_type": "execute_result"
    }
   ],
   "source": [
    "# >\n",
    "\n",
    "10 > 5"
   ]
  },
  {
   "cell_type": "code",
   "execution_count": 28,
   "id": "2b9ea393",
   "metadata": {},
   "outputs": [
    {
     "data": {
      "text/plain": [
       "False"
      ]
     },
     "execution_count": 28,
     "metadata": {},
     "output_type": "execute_result"
    }
   ],
   "source": [
    "10 > 17"
   ]
  },
  {
   "cell_type": "code",
   "execution_count": 32,
   "id": "624f2183",
   "metadata": {},
   "outputs": [
    {
     "data": {
      "text/plain": [
       "False"
      ]
     },
     "execution_count": 32,
     "metadata": {},
     "output_type": "execute_result"
    }
   ],
   "source": [
    "10>10"
   ]
  },
  {
   "cell_type": "code",
   "execution_count": 30,
   "id": "d92a69b6",
   "metadata": {},
   "outputs": [
    {
     "data": {
      "text/plain": [
       "True"
      ]
     },
     "execution_count": 30,
     "metadata": {},
     "output_type": "execute_result"
    }
   ],
   "source": [
    "# <\n",
    "\n",
    "5 < 10"
   ]
  },
  {
   "cell_type": "code",
   "execution_count": 31,
   "id": "399441a5",
   "metadata": {},
   "outputs": [
    {
     "data": {
      "text/plain": [
       "False"
      ]
     },
     "execution_count": 31,
     "metadata": {},
     "output_type": "execute_result"
    }
   ],
   "source": [
    "5 < 2"
   ]
  },
  {
   "cell_type": "code",
   "execution_count": 33,
   "id": "8e90947d",
   "metadata": {},
   "outputs": [
    {
     "data": {
      "text/plain": [
       "True"
      ]
     },
     "execution_count": 33,
     "metadata": {},
     "output_type": "execute_result"
    }
   ],
   "source": [
    "# >=\n",
    "10>=10"
   ]
  },
  {
   "cell_type": "code",
   "execution_count": 34,
   "id": "fc5c9609",
   "metadata": {},
   "outputs": [],
   "source": [
    "# <=\n",
    "\n",
    "x = 5\n",
    "y = 2\n",
    "z = 5"
   ]
  },
  {
   "cell_type": "code",
   "execution_count": null,
   "id": "47fd607e",
   "metadata": {},
   "outputs": [],
   "source": [
    "y "
   ]
  }
 ],
 "metadata": {
  "kernelspec": {
   "display_name": "Python 3 (ipykernel)",
   "language": "python",
   "name": "python3"
  },
  "language_info": {
   "codemirror_mode": {
    "name": "ipython",
    "version": 3
   },
   "file_extension": ".py",
   "mimetype": "text/x-python",
   "name": "python",
   "nbconvert_exporter": "python",
   "pygments_lexer": "ipython3",
   "version": "3.8.3"
  }
 },
 "nbformat": 4,
 "nbformat_minor": 5
}
