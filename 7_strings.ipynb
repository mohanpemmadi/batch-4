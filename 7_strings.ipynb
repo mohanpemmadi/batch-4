{
 "cells": [
  {
   "cell_type": "markdown",
   "id": "2c8798da",
   "metadata": {},
   "source": [
    "# String is a collection of characters and its a immutable object"
   ]
  },
  {
   "cell_type": "code",
   "execution_count": 2,
   "id": "76d173f9",
   "metadata": {},
   "outputs": [],
   "source": [
    "st = 'python' # \"python\" "
   ]
  },
  {
   "cell_type": "code",
   "execution_count": null,
   "id": "f6661acf",
   "metadata": {},
   "outputs": [],
   "source": [
    "st"
   ]
  },
  {
   "cell_type": "code",
   "execution_count": null,
   "id": "0138656a",
   "metadata": {},
   "outputs": [],
   "source": [
    "type(st)"
   ]
  },
  {
   "cell_type": "code",
   "execution_count": null,
   "id": "88685685",
   "metadata": {},
   "outputs": [],
   "source": [
    "st1 = \"\"\"python\"\"\"  # '''python'''"
   ]
  },
  {
   "cell_type": "code",
   "execution_count": null,
   "id": "262ca21e",
   "metadata": {},
   "outputs": [],
   "source": [
    "type(st1)"
   ]
  },
  {
   "cell_type": "code",
   "execution_count": null,
   "id": "ed42ae23",
   "metadata": {},
   "outputs": [],
   "source": [
    "# slicing - slice some part of original object"
   ]
  },
  {
   "cell_type": "code",
   "execution_count": 11,
   "id": "9e4aa1d2",
   "metadata": {},
   "outputs": [],
   "source": [
    "# index\n",
    "\n",
    "#  p   y   t   h   o   n\n",
    "#  0   1   2   3   4   5\n",
    "#  -6 -5  -4  -3  -2  -1"
   ]
  },
  {
   "cell_type": "code",
   "execution_count": 7,
   "id": "c92f1b0b",
   "metadata": {},
   "outputs": [
    {
     "data": {
      "text/plain": [
       "'python'"
      ]
     },
     "execution_count": 7,
     "metadata": {},
     "output_type": "execute_result"
    }
   ],
   "source": [
    "st"
   ]
  },
  {
   "cell_type": "code",
   "execution_count": 6,
   "id": "94045724",
   "metadata": {},
   "outputs": [
    {
     "data": {
      "text/plain": [
       "'p'"
      ]
     },
     "execution_count": 6,
     "metadata": {},
     "output_type": "execute_result"
    }
   ],
   "source": [
    "st[0]"
   ]
  },
  {
   "cell_type": "code",
   "execution_count": 5,
   "id": "24489181",
   "metadata": {},
   "outputs": [
    {
     "data": {
      "text/plain": [
       "'h'"
      ]
     },
     "execution_count": 5,
     "metadata": {},
     "output_type": "execute_result"
    }
   ],
   "source": [
    "st[3]"
   ]
  },
  {
   "cell_type": "code",
   "execution_count": 4,
   "id": "62c521f9",
   "metadata": {},
   "outputs": [
    {
     "data": {
      "text/plain": [
       "'n'"
      ]
     },
     "execution_count": 4,
     "metadata": {},
     "output_type": "execute_result"
    }
   ],
   "source": [
    "st[5]"
   ]
  },
  {
   "cell_type": "code",
   "execution_count": 3,
   "id": "839ca880",
   "metadata": {},
   "outputs": [
    {
     "data": {
      "text/plain": [
       "'n'"
      ]
     },
     "execution_count": 3,
     "metadata": {},
     "output_type": "execute_result"
    }
   ],
   "source": [
    "st[-1]"
   ]
  },
  {
   "cell_type": "code",
   "execution_count": 8,
   "id": "c9615e5b",
   "metadata": {},
   "outputs": [
    {
     "data": {
      "text/plain": [
       "'t'"
      ]
     },
     "execution_count": 8,
     "metadata": {},
     "output_type": "execute_result"
    }
   ],
   "source": [
    "st[-4]"
   ]
  },
  {
   "cell_type": "code",
   "execution_count": 14,
   "id": "bfb6da5d",
   "metadata": {},
   "outputs": [],
   "source": [
    "# index\n",
    "\n",
    "#  p   y   t   h   o   n\n",
    "#  0   1   2   3   4   5\n",
    "#  -6 -5  -4  -3  -2  -1"
   ]
  },
  {
   "cell_type": "code",
   "execution_count": 9,
   "id": "fb21eab3",
   "metadata": {},
   "outputs": [],
   "source": [
    "# variablename[start:end:step]"
   ]
  },
  {
   "cell_type": "code",
   "execution_count": 12,
   "id": "8eedae27",
   "metadata": {},
   "outputs": [
    {
     "data": {
      "text/plain": [
       "'pyth'"
      ]
     },
     "execution_count": 12,
     "metadata": {},
     "output_type": "execute_result"
    }
   ],
   "source": [
    "st[0:4]"
   ]
  },
  {
   "cell_type": "code",
   "execution_count": 15,
   "id": "a2386ed2",
   "metadata": {},
   "outputs": [
    {
     "data": {
      "text/plain": [
       "'yt'"
      ]
     },
     "execution_count": 15,
     "metadata": {},
     "output_type": "execute_result"
    }
   ],
   "source": [
    "st[1:3]"
   ]
  },
  {
   "cell_type": "code",
   "execution_count": 16,
   "id": "bf6312e5",
   "metadata": {},
   "outputs": [
    {
     "data": {
      "text/plain": [
       "'ytho'"
      ]
     },
     "execution_count": 16,
     "metadata": {},
     "output_type": "execute_result"
    }
   ],
   "source": [
    "st[1:5]"
   ]
  },
  {
   "cell_type": "code",
   "execution_count": 17,
   "id": "2fea6835",
   "metadata": {},
   "outputs": [
    {
     "data": {
      "text/plain": [
       "'yh'"
      ]
     },
     "execution_count": 17,
     "metadata": {},
     "output_type": "execute_result"
    }
   ],
   "source": [
    "st[1:5:2]"
   ]
  },
  {
   "cell_type": "code",
   "execution_count": 18,
   "id": "6edb0424",
   "metadata": {},
   "outputs": [
    {
     "data": {
      "text/plain": [
       "'pyth'"
      ]
     },
     "execution_count": 18,
     "metadata": {},
     "output_type": "execute_result"
    }
   ],
   "source": [
    "st[:4]"
   ]
  },
  {
   "cell_type": "code",
   "execution_count": 19,
   "id": "da45b297",
   "metadata": {},
   "outputs": [
    {
     "data": {
      "text/plain": [
       "'ython'"
      ]
     },
     "execution_count": 19,
     "metadata": {},
     "output_type": "execute_result"
    }
   ],
   "source": [
    "st[1:]"
   ]
  },
  {
   "cell_type": "code",
   "execution_count": 3,
   "id": "1dd847d7",
   "metadata": {},
   "outputs": [
    {
     "data": {
      "text/plain": [
       "'python'"
      ]
     },
     "execution_count": 3,
     "metadata": {},
     "output_type": "execute_result"
    }
   ],
   "source": [
    "st"
   ]
  },
  {
   "cell_type": "code",
   "execution_count": 4,
   "id": "d5c1f4c5",
   "metadata": {},
   "outputs": [],
   "source": [
    "s = 'python is a great lang'"
   ]
  },
  {
   "cell_type": "code",
   "execution_count": 5,
   "id": "a7cb1189",
   "metadata": {},
   "outputs": [
    {
     "data": {
      "text/plain": [
       "'python is a great lang'"
      ]
     },
     "execution_count": 5,
     "metadata": {},
     "output_type": "execute_result"
    }
   ],
   "source": [
    "s"
   ]
  },
  {
   "cell_type": "code",
   "execution_count": 6,
   "id": "3f836a16",
   "metadata": {},
   "outputs": [
    {
     "data": {
      "text/plain": [
       "str"
      ]
     },
     "execution_count": 6,
     "metadata": {},
     "output_type": "execute_result"
    }
   ],
   "source": [
    "type(s)"
   ]
  },
  {
   "cell_type": "code",
   "execution_count": 8,
   "id": "6e5ee3fb",
   "metadata": {},
   "outputs": [],
   "source": [
    "# dir(s)\n",
    "\n",
    "#  'capitalize',\n",
    "#  'casefold',\n",
    "#  'center',\n",
    "#  'count',\n",
    "#  'encode',\n",
    "#  'endswith',\n",
    "#  'expandtabs',\n",
    "#  'find',\n",
    "#  'format',\n",
    "#  'format_map',\n",
    "#  'index',\n",
    "#  'isalnum',\n",
    "#  'isalpha',\n",
    "#  'isascii',\n",
    "#  'isdecimal',\n",
    "#  'isdigit',\n",
    "#  'isidentifier',\n",
    "#  'islower',\n",
    "#  'isnumeric',\n",
    "#  'isprintable',\n",
    "#  'isspace',\n",
    "#  'istitle',\n",
    "#  'isupper',\n",
    "#  'join',\n",
    "#  'ljust',\n",
    "#  'lower',\n",
    "#  'lstrip',\n",
    "#  'maketrans',\n",
    "#  'partition',\n",
    "#  'replace',\n",
    "#  'rfind',\n",
    "#  'rindex',\n",
    "#  'rjust',\n",
    "#  'rpartition',\n",
    "#  'rsplit',\n",
    "#  'rstrip',\n",
    "#  'split',\n",
    "#  'splitlines',\n",
    "#  'startswith',\n",
    "#  'strip',\n",
    "#  'swapcase',\n",
    "#  'title',\n",
    "#  'translate',\n",
    "#  'upper',\n",
    "#  'zfill\n",
    "\n"
   ]
  },
  {
   "cell_type": "code",
   "execution_count": 11,
   "id": "81ef7a69",
   "metadata": {},
   "outputs": [],
   "source": [
    "# help(str)"
   ]
  },
  {
   "cell_type": "code",
   "execution_count": 12,
   "id": "2bc3ae14",
   "metadata": {},
   "outputs": [
    {
     "data": {
      "text/plain": [
       "'Python is a great lang'"
      ]
     },
     "execution_count": 12,
     "metadata": {},
     "output_type": "execute_result"
    }
   ],
   "source": [
    "# capitalize\n",
    "\n",
    "s.capitalize()"
   ]
  },
  {
   "cell_type": "code",
   "execution_count": 13,
   "id": "11bd9183",
   "metadata": {},
   "outputs": [
    {
     "data": {
      "text/plain": [
       "'Python Is A Great Lang'"
      ]
     },
     "execution_count": 13,
     "metadata": {},
     "output_type": "execute_result"
    }
   ],
   "source": [
    "# title\n",
    "\n",
    "s.title()"
   ]
  },
  {
   "cell_type": "code",
   "execution_count": 14,
   "id": "d2b90055",
   "metadata": {},
   "outputs": [
    {
     "data": {
      "text/plain": [
       "'PYTHON IS A GREAT LANG'"
      ]
     },
     "execution_count": 14,
     "metadata": {},
     "output_type": "execute_result"
    }
   ],
   "source": [
    "# upper\n",
    "\n",
    "s.upper()"
   ]
  },
  {
   "cell_type": "code",
   "execution_count": 15,
   "id": "7adb4b06",
   "metadata": {},
   "outputs": [
    {
     "data": {
      "text/plain": [
       "'abcd'"
      ]
     },
     "execution_count": 15,
     "metadata": {},
     "output_type": "execute_result"
    }
   ],
   "source": [
    "# lower\n",
    "\n",
    "'ABCD'.lower()"
   ]
  },
  {
   "cell_type": "code",
   "execution_count": 18,
   "id": "8a37d6c6",
   "metadata": {},
   "outputs": [
    {
     "data": {
      "text/plain": [
       "'python is a great lang'"
      ]
     },
     "execution_count": 18,
     "metadata": {},
     "output_type": "execute_result"
    }
   ],
   "source": [
    "s"
   ]
  },
  {
   "cell_type": "code",
   "execution_count": 21,
   "id": "f3d7476c",
   "metadata": {},
   "outputs": [
    {
     "data": {
      "text/plain": [
       "0"
      ]
     },
     "execution_count": 21,
     "metadata": {},
     "output_type": "execute_result"
    }
   ],
   "source": [
    "# count\n",
    "\n",
    "s.count('a')\n",
    "s.count('n')\n",
    "s.count('z')"
   ]
  },
  {
   "cell_type": "code",
   "execution_count": 24,
   "id": "c98a1aa9",
   "metadata": {},
   "outputs": [
    {
     "data": {
      "text/plain": [
       "5"
      ]
     },
     "execution_count": 24,
     "metadata": {},
     "output_type": "execute_result"
    }
   ],
   "source": [
    "# index\n",
    "\n",
    "s.index('n')"
   ]
  },
  {
   "cell_type": "code",
   "execution_count": 28,
   "id": "2e129ba7",
   "metadata": {},
   "outputs": [
    {
     "data": {
      "text/plain": [
       "12"
      ]
     },
     "execution_count": 28,
     "metadata": {},
     "output_type": "execute_result"
    }
   ],
   "source": [
    "s.index('great')"
   ]
  },
  {
   "cell_type": "code",
   "execution_count": 29,
   "id": "08199120",
   "metadata": {},
   "outputs": [
    {
     "data": {
      "text/plain": [
       "10"
      ]
     },
     "execution_count": 29,
     "metadata": {},
     "output_type": "execute_result"
    }
   ],
   "source": [
    "s.index('a')"
   ]
  },
  {
   "cell_type": "code",
   "execution_count": 26,
   "id": "8eebd979",
   "metadata": {},
   "outputs": [
    {
     "ename": "ValueError",
     "evalue": "substring not found",
     "output_type": "error",
     "traceback": [
      "\u001b[1;31m---------------------------------------------------------------------------\u001b[0m",
      "\u001b[1;31mValueError\u001b[0m                                Traceback (most recent call last)",
      "Input \u001b[1;32mIn [26]\u001b[0m, in \u001b[0;36m<module>\u001b[1;34m\u001b[0m\n\u001b[1;32m----> 1\u001b[0m \u001b[43ms\u001b[49m\u001b[38;5;241;43m.\u001b[39;49m\u001b[43mindex\u001b[49m\u001b[43m(\u001b[49m\u001b[38;5;124;43m'\u001b[39;49m\u001b[38;5;124;43mz\u001b[39;49m\u001b[38;5;124;43m'\u001b[39;49m\u001b[43m)\u001b[49m\n",
      "\u001b[1;31mValueError\u001b[0m: substring not found"
     ]
    }
   ],
   "source": [
    "s.index('z')"
   ]
  },
  {
   "cell_type": "code",
   "execution_count": 25,
   "id": "82983967",
   "metadata": {},
   "outputs": [
    {
     "data": {
      "text/plain": [
       "5"
      ]
     },
     "execution_count": 25,
     "metadata": {},
     "output_type": "execute_result"
    }
   ],
   "source": [
    "# find\n",
    "\n",
    "s.find('n')"
   ]
  },
  {
   "cell_type": "code",
   "execution_count": 27,
   "id": "13013587",
   "metadata": {},
   "outputs": [
    {
     "data": {
      "text/plain": [
       "-1"
      ]
     },
     "execution_count": 27,
     "metadata": {},
     "output_type": "execute_result"
    }
   ],
   "source": [
    "s.find('z')"
   ]
  },
  {
   "cell_type": "code",
   "execution_count": 30,
   "id": "7006a346",
   "metadata": {},
   "outputs": [
    {
     "data": {
      "text/plain": [
       "'python is a great lang'"
      ]
     },
     "execution_count": 30,
     "metadata": {},
     "output_type": "execute_result"
    }
   ],
   "source": [
    "s"
   ]
  },
  {
   "cell_type": "code",
   "execution_count": 31,
   "id": "89672ae1",
   "metadata": {},
   "outputs": [
    {
     "data": {
      "text/plain": [
       "True"
      ]
     },
     "execution_count": 31,
     "metadata": {},
     "output_type": "execute_result"
    }
   ],
   "source": [
    "# startswith\n",
    "\n",
    "s.startswith('p')"
   ]
  },
  {
   "cell_type": "code",
   "execution_count": 34,
   "id": "730a6128",
   "metadata": {},
   "outputs": [
    {
     "data": {
      "text/plain": [
       "True"
      ]
     },
     "execution_count": 34,
     "metadata": {},
     "output_type": "execute_result"
    }
   ],
   "source": [
    "s.startswith('python is')"
   ]
  },
  {
   "cell_type": "code",
   "execution_count": 35,
   "id": "d5c2c601",
   "metadata": {},
   "outputs": [
    {
     "data": {
      "text/plain": [
       "False"
      ]
     },
     "execution_count": 35,
     "metadata": {},
     "output_type": "execute_result"
    }
   ],
   "source": [
    "s.startswith('python was')"
   ]
  },
  {
   "cell_type": "code",
   "execution_count": 33,
   "id": "ec83ed75",
   "metadata": {},
   "outputs": [
    {
     "data": {
      "text/plain": [
       "False"
      ]
     },
     "execution_count": 33,
     "metadata": {},
     "output_type": "execute_result"
    }
   ],
   "source": [
    "s.startswith('java') "
   ]
  },
  {
   "cell_type": "code",
   "execution_count": 37,
   "id": "d9b2ddfa",
   "metadata": {},
   "outputs": [
    {
     "data": {
      "text/plain": [
       "True"
      ]
     },
     "execution_count": 37,
     "metadata": {},
     "output_type": "execute_result"
    }
   ],
   "source": [
    "# endswith\n",
    "\n",
    "s.endswith('g')"
   ]
  },
  {
   "cell_type": "code",
   "execution_count": 38,
   "id": "cc15d06f",
   "metadata": {},
   "outputs": [
    {
     "data": {
      "text/plain": [
       "True"
      ]
     },
     "execution_count": 38,
     "metadata": {},
     "output_type": "execute_result"
    }
   ],
   "source": [
    "s.endswith('great lang')"
   ]
  },
  {
   "cell_type": "code",
   "execution_count": 39,
   "id": "77fa1b3c",
   "metadata": {},
   "outputs": [
    {
     "data": {
      "text/plain": [
       "False"
      ]
     },
     "execution_count": 39,
     "metadata": {},
     "output_type": "execute_result"
    }
   ],
   "source": [
    "s.endswith('great')"
   ]
  },
  {
   "cell_type": "code",
   "execution_count": 41,
   "id": "d8a0a58e",
   "metadata": {},
   "outputs": [
    {
     "data": {
      "text/plain": [
       "'my name is Mohan and age is 31'"
      ]
     },
     "execution_count": 41,
     "metadata": {},
     "output_type": "execute_result"
    }
   ],
   "source": [
    "# format\n",
    "\n",
    "name = 'Mohan'\n",
    "age = 31\n",
    "\n",
    "'my name is {} and age is {}'.format(name,age)"
   ]
  },
  {
   "cell_type": "code",
   "execution_count": 42,
   "id": "311e9c77",
   "metadata": {},
   "outputs": [
    {
     "data": {
      "text/plain": [
       "'my name is 31 and age is Mohan'"
      ]
     },
     "execution_count": 42,
     "metadata": {},
     "output_type": "execute_result"
    }
   ],
   "source": [
    "'my name is {} and age is {}'.format(age,name)"
   ]
  },
  {
   "cell_type": "code",
   "execution_count": 45,
   "id": "381b83df",
   "metadata": {},
   "outputs": [
    {
     "data": {
      "text/plain": [
       "'my name is Mohan and age is 31'"
      ]
     },
     "execution_count": 45,
     "metadata": {},
     "output_type": "execute_result"
    }
   ],
   "source": [
    "'my name is {0} and age is {1}'.format(name,age)"
   ]
  },
  {
   "cell_type": "code",
   "execution_count": 46,
   "id": "568ffa98",
   "metadata": {},
   "outputs": [
    {
     "data": {
      "text/plain": [
       "'my name is 31 and age is Mohan'"
      ]
     },
     "execution_count": 46,
     "metadata": {},
     "output_type": "execute_result"
    }
   ],
   "source": [
    "'my name is {1} and age is {0}'.format(name,age)"
   ]
  },
  {
   "cell_type": "code",
   "execution_count": 43,
   "id": "43df5ad9",
   "metadata": {},
   "outputs": [
    {
     "data": {
      "text/plain": [
       "'wrong password given for the abc@.gmail.com'"
      ]
     },
     "execution_count": 43,
     "metadata": {},
     "output_type": "execute_result"
    }
   ],
   "source": [
    "email = 'abc@.gmail.com'\n",
    "'wrong password given for the {}'.format(email)"
   ]
  },
  {
   "cell_type": "code",
   "execution_count": 47,
   "id": "fb9afc72",
   "metadata": {},
   "outputs": [
    {
     "data": {
      "text/plain": [
       "'Mohan'"
      ]
     },
     "execution_count": 47,
     "metadata": {},
     "output_type": "execute_result"
    }
   ],
   "source": [
    "name"
   ]
  },
  {
   "cell_type": "code",
   "execution_count": 49,
   "id": "ebfc5f6c",
   "metadata": {},
   "outputs": [
    {
     "data": {
      "text/plain": [
       "'Zohan'"
      ]
     },
     "execution_count": 49,
     "metadata": {},
     "output_type": "execute_result"
    }
   ],
   "source": [
    "# replace\n",
    "name.replace('M','Z')"
   ]
  },
  {
   "cell_type": "code",
   "execution_count": 50,
   "id": "3a4f02cc",
   "metadata": {},
   "outputs": [
    {
     "data": {
      "text/plain": [
       "'python is a great lang'"
      ]
     },
     "execution_count": 50,
     "metadata": {},
     "output_type": "execute_result"
    }
   ],
   "source": [
    "s"
   ]
  },
  {
   "cell_type": "code",
   "execution_count": 51,
   "id": "d330d60b",
   "metadata": {},
   "outputs": [
    {
     "data": {
      "text/plain": [
       "'php is a great lang'"
      ]
     },
     "execution_count": 51,
     "metadata": {},
     "output_type": "execute_result"
    }
   ],
   "source": [
    "s.replace('python','php')"
   ]
  },
  {
   "cell_type": "code",
   "execution_count": 53,
   "id": "1480e0b2",
   "metadata": {},
   "outputs": [
    {
     "data": {
      "text/plain": [
       "['python', 'is', 'a', 'great', 'lang']"
      ]
     },
     "execution_count": 53,
     "metadata": {},
     "output_type": "execute_result"
    }
   ],
   "source": [
    "# split\n",
    "\n",
    "s.split(' ')"
   ]
  },
  {
   "cell_type": "code",
   "execution_count": 55,
   "id": "5fe4fcd6",
   "metadata": {},
   "outputs": [
    {
     "data": {
      "text/plain": [
       "['python ', ' a great lang']"
      ]
     },
     "execution_count": 55,
     "metadata": {},
     "output_type": "execute_result"
    }
   ],
   "source": [
    "s.split('is')"
   ]
  },
  {
   "cell_type": "code",
   "execution_count": 56,
   "id": "68e9651e",
   "metadata": {},
   "outputs": [
    {
     "data": {
      "text/plain": [
       "['a', 'b', 'c', 'd']"
      ]
     },
     "execution_count": 56,
     "metadata": {},
     "output_type": "execute_result"
    }
   ],
   "source": [
    "'a@b@c@d'.split('@')"
   ]
  },
  {
   "cell_type": "code",
   "execution_count": 58,
   "id": "a30cfaed",
   "metadata": {},
   "outputs": [
    {
     "data": {
      "text/plain": [
       "'abc efg'"
      ]
     },
     "execution_count": 58,
     "metadata": {},
     "output_type": "execute_result"
    }
   ],
   "source": [
    "# strip\n",
    "\n",
    "' abc efg '.strip()"
   ]
  },
  {
   "cell_type": "code",
   "execution_count": 59,
   "id": "b949f973",
   "metadata": {},
   "outputs": [
    {
     "data": {
      "text/plain": [
       "'abc efg '"
      ]
     },
     "execution_count": 59,
     "metadata": {},
     "output_type": "execute_result"
    }
   ],
   "source": [
    "' abc efg '.lstrip()"
   ]
  },
  {
   "cell_type": "code",
   "execution_count": 60,
   "id": "13499c98",
   "metadata": {},
   "outputs": [
    {
     "data": {
      "text/plain": [
       "' abc efg'"
      ]
     },
     "execution_count": 60,
     "metadata": {},
     "output_type": "execute_result"
    }
   ],
   "source": [
    "' abc efg '.rstrip()"
   ]
  },
  {
   "cell_type": "code",
   "execution_count": 61,
   "id": "4796317b",
   "metadata": {},
   "outputs": [
    {
     "data": {
      "text/plain": [
       "True"
      ]
     },
     "execution_count": 61,
     "metadata": {},
     "output_type": "execute_result"
    }
   ],
   "source": [
    "#  'isalpha'\n",
    "\n",
    "'abc'.isalpha()"
   ]
  },
  {
   "cell_type": "code",
   "execution_count": 62,
   "id": "15d4289c",
   "metadata": {},
   "outputs": [
    {
     "data": {
      "text/plain": [
       "False"
      ]
     },
     "execution_count": 62,
     "metadata": {},
     "output_type": "execute_result"
    }
   ],
   "source": [
    "'a2c'.isalpha()"
   ]
  },
  {
   "cell_type": "code",
   "execution_count": 63,
   "id": "1c22e025",
   "metadata": {},
   "outputs": [
    {
     "data": {
      "text/plain": [
       "False"
      ]
     },
     "execution_count": 63,
     "metadata": {},
     "output_type": "execute_result"
    }
   ],
   "source": [
    "#  'isdigit'\n",
    "\n",
    "'a23'.isdigit()"
   ]
  },
  {
   "cell_type": "code",
   "execution_count": 64,
   "id": "0c32ea6c",
   "metadata": {},
   "outputs": [
    {
     "data": {
      "text/plain": [
       "True"
      ]
     },
     "execution_count": 64,
     "metadata": {},
     "output_type": "execute_result"
    }
   ],
   "source": [
    "'23'.isdigit()"
   ]
  },
  {
   "cell_type": "code",
   "execution_count": 67,
   "id": "35198859",
   "metadata": {},
   "outputs": [
    {
     "data": {
      "text/plain": [
       "True"
      ]
     },
     "execution_count": 67,
     "metadata": {},
     "output_type": "execute_result"
    }
   ],
   "source": [
    "#  'isdecimal'\n",
    "'23'.isdecimal()"
   ]
  },
  {
   "cell_type": "code",
   "execution_count": 68,
   "id": "927953e5",
   "metadata": {},
   "outputs": [
    {
     "data": {
      "text/plain": [
       "False"
      ]
     },
     "execution_count": 68,
     "metadata": {},
     "output_type": "execute_result"
    }
   ],
   "source": [
    "'23.4'.isdecimal()"
   ]
  },
  {
   "cell_type": "code",
   "execution_count": 69,
   "id": "bd85f5c7",
   "metadata": {},
   "outputs": [
    {
     "data": {
      "text/plain": [
       "True"
      ]
     },
     "execution_count": 69,
     "metadata": {},
     "output_type": "execute_result"
    }
   ],
   "source": [
    "# isalnum\n",
    "'a2c'.isalnum()"
   ]
  },
  {
   "cell_type": "code",
   "execution_count": 70,
   "id": "564d4cea",
   "metadata": {},
   "outputs": [
    {
     "data": {
      "text/plain": [
       "True"
      ]
     },
     "execution_count": 70,
     "metadata": {},
     "output_type": "execute_result"
    }
   ],
   "source": [
    "'abc'.isalnum()"
   ]
  },
  {
   "cell_type": "code",
   "execution_count": 71,
   "id": "9798a4a9",
   "metadata": {},
   "outputs": [
    {
     "data": {
      "text/plain": [
       "True"
      ]
     },
     "execution_count": 71,
     "metadata": {},
     "output_type": "execute_result"
    }
   ],
   "source": [
    "'123'.isalnum()"
   ]
  },
  {
   "cell_type": "code",
   "execution_count": 74,
   "id": "5ca5137e",
   "metadata": {},
   "outputs": [
    {
     "data": {
      "text/plain": [
       "False"
      ]
     },
     "execution_count": 74,
     "metadata": {},
     "output_type": "execute_result"
    }
   ],
   "source": [
    "'1@a'.isalnum()"
   ]
  },
  {
   "cell_type": "code",
   "execution_count": 1,
   "id": "8513fb46",
   "metadata": {},
   "outputs": [],
   "source": [
    "st = 'python'"
   ]
  },
  {
   "cell_type": "code",
   "execution_count": 2,
   "id": "9d66e78f",
   "metadata": {},
   "outputs": [
    {
     "data": {
      "text/plain": [
       "str"
      ]
     },
     "execution_count": 2,
     "metadata": {},
     "output_type": "execute_result"
    }
   ],
   "source": [
    "type(st)"
   ]
  },
  {
   "cell_type": "code",
   "execution_count": 3,
   "id": "b8c0339f",
   "metadata": {},
   "outputs": [
    {
     "data": {
      "text/plain": [
       "'p'"
      ]
     },
     "execution_count": 3,
     "metadata": {},
     "output_type": "execute_result"
    }
   ],
   "source": [
    "st[0]"
   ]
  },
  {
   "cell_type": "code",
   "execution_count": 4,
   "id": "486ce467",
   "metadata": {},
   "outputs": [
    {
     "ename": "TypeError",
     "evalue": "'str' object does not support item assignment",
     "output_type": "error",
     "traceback": [
      "\u001b[1;31m---------------------------------------------------------------------------\u001b[0m",
      "\u001b[1;31mTypeError\u001b[0m                                 Traceback (most recent call last)",
      "Input \u001b[1;32mIn [4]\u001b[0m, in \u001b[0;36m<module>\u001b[1;34m\u001b[0m\n\u001b[1;32m----> 1\u001b[0m st[\u001b[38;5;241m0\u001b[39m] \u001b[38;5;241m=\u001b[39m \u001b[38;5;124m'\u001b[39m\u001b[38;5;124mq\u001b[39m\u001b[38;5;124m'\u001b[39m\n",
      "\u001b[1;31mTypeError\u001b[0m: 'str' object does not support item assignment"
     ]
    }
   ],
   "source": [
    "st[0] = 'q'"
   ]
  },
  {
   "cell_type": "code",
   "execution_count": 5,
   "id": "58a10ec0",
   "metadata": {},
   "outputs": [
    {
     "data": {
      "text/plain": [
       "'python'"
      ]
     },
     "execution_count": 5,
     "metadata": {},
     "output_type": "execute_result"
    }
   ],
   "source": [
    "st"
   ]
  },
  {
   "cell_type": "code",
   "execution_count": null,
   "id": "5862de9a",
   "metadata": {},
   "outputs": [],
   "source": []
  }
 ],
 "metadata": {
  "kernelspec": {
   "display_name": "Python 3 (ipykernel)",
   "language": "python",
   "name": "python3"
  },
  "language_info": {
   "codemirror_mode": {
    "name": "ipython",
    "version": 3
   },
   "file_extension": ".py",
   "mimetype": "text/x-python",
   "name": "python",
   "nbconvert_exporter": "python",
   "pygments_lexer": "ipython3",
   "version": "3.8.3"
  }
 },
 "nbformat": 4,
 "nbformat_minor": 5
}
