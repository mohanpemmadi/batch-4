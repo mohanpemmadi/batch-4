{
 "cells": [
  {
   "cell_type": "markdown",
   "id": "85323750",
   "metadata": {},
   "source": [
    "# Print 1 to 100 even or odd number"
   ]
  },
  {
   "cell_type": "code",
   "execution_count": 1,
   "id": "0d0a8ec6",
   "metadata": {},
   "outputs": [
    {
     "name": "stdout",
     "output_type": "stream",
     "text": [
      "[0, 1, 2, 3, 4, 5, 6, 7, 8, 9, 10, 11, 12, 13, 14, 15, 16, 17, 18, 19, 20, 21, 22, 23, 24, 25, 26, 27, 28, 29, 30, 31, 32, 33, 34, 35, 36, 37, 38, 39, 40, 41, 42, 43, 44, 45, 46, 47, 48, 49, 50, 51, 52, 53, 54, 55, 56, 57, 58, 59, 60, 61, 62, 63, 64, 65, 66, 67, 68, 69, 70, 71, 72, 73, 74, 75, 76, 77, 78, 79, 80, 81, 82, 83, 84, 85, 86, 87, 88, 89, 90, 91, 92, 93, 94, 95, 96, 97, 98, 99]\n"
     ]
    }
   ],
   "source": [
    "print(list(range(100)))"
   ]
  },
  {
   "cell_type": "code",
   "execution_count": 3,
   "id": "216e0607",
   "metadata": {},
   "outputs": [
    {
     "data": {
      "text/plain": [
       "[1, 3, 5, 7, 9, 11, 13, 15, 17, 19]"
      ]
     },
     "execution_count": 3,
     "metadata": {},
     "output_type": "execute_result"
    }
   ],
   "source": [
    "list(range(1,20,2))"
   ]
  },
  {
   "cell_type": "code",
   "execution_count": 4,
   "id": "1bd453d0",
   "metadata": {},
   "outputs": [
    {
     "data": {
      "text/plain": [
       "[2, 4, 6, 8, 10, 12, 14, 16, 18]"
      ]
     },
     "execution_count": 4,
     "metadata": {},
     "output_type": "execute_result"
    }
   ],
   "source": [
    "list(range(2,20,2))"
   ]
  },
  {
   "cell_type": "markdown",
   "id": "2bf77814",
   "metadata": {},
   "source": [
    "# Maximum value in a List"
   ]
  },
  {
   "cell_type": "code",
   "execution_count": 7,
   "id": "ee7a78ef",
   "metadata": {},
   "outputs": [],
   "source": [
    "lst = [12,39,47,5,-15,99,87,102]"
   ]
  },
  {
   "cell_type": "code",
   "execution_count": 3,
   "id": "8811cc32",
   "metadata": {},
   "outputs": [
    {
     "data": {
      "text/plain": [
       "99"
      ]
     },
     "execution_count": 3,
     "metadata": {},
     "output_type": "execute_result"
    }
   ],
   "source": [
    "max(lst)"
   ]
  },
  {
   "cell_type": "code",
   "execution_count": 4,
   "id": "dd5b905d",
   "metadata": {},
   "outputs": [
    {
     "data": {
      "text/plain": [
       "-15"
      ]
     },
     "execution_count": 4,
     "metadata": {},
     "output_type": "execute_result"
    }
   ],
   "source": [
    "min(lst)"
   ]
  },
  {
   "cell_type": "code",
   "execution_count": 9,
   "id": "afed4562",
   "metadata": {},
   "outputs": [
    {
     "data": {
      "text/plain": [
       "12"
      ]
     },
     "execution_count": 9,
     "metadata": {},
     "output_type": "execute_result"
    }
   ],
   "source": [
    "lst[0]"
   ]
  },
  {
   "cell_type": "code",
   "execution_count": 12,
   "id": "5e078768",
   "metadata": {},
   "outputs": [
    {
     "data": {
      "text/plain": [
       "[12, 39, 47, 5, -15, 99, 87, 102]"
      ]
     },
     "execution_count": 12,
     "metadata": {},
     "output_type": "execute_result"
    }
   ],
   "source": [
    "lst"
   ]
  },
  {
   "cell_type": "code",
   "execution_count": 11,
   "id": "dc0194f2",
   "metadata": {},
   "outputs": [
    {
     "data": {
      "text/plain": [
       "102"
      ]
     },
     "execution_count": 11,
     "metadata": {},
     "output_type": "execute_result"
    }
   ],
   "source": [
    "max_value = 0\n",
    "\n",
    "for value in lst:\n",
    "    if value > max_value:  # 39 > 12\n",
    "        max_value = value\n",
    "        \n",
    "max_value"
   ]
  },
  {
   "cell_type": "markdown",
   "id": "6f341d24",
   "metadata": {},
   "source": [
    "# Recursion"
   ]
  },
  {
   "cell_type": "code",
   "execution_count": 1,
   "id": "8d18a0df",
   "metadata": {},
   "outputs": [],
   "source": [
    "# If a function calls itself "
   ]
  },
  {
   "cell_type": "code",
   "execution_count": null,
   "id": "42298ac8",
   "metadata": {},
   "outputs": [],
   "source": [
    "# factorial = 5! - > 5 * 4 * 3 * 2 * 1"
   ]
  },
  {
   "cell_type": "code",
   "execution_count": 2,
   "id": "e72bce50",
   "metadata": {},
   "outputs": [
    {
     "data": {
      "text/plain": [
       "120"
      ]
     },
     "execution_count": 2,
     "metadata": {},
     "output_type": "execute_result"
    }
   ],
   "source": [
    "def factorial(n):\n",
    "    if n == 1:\n",
    "        return 1\n",
    "    else:\n",
    "        return n * factorial(n-1)  # 5 * factorial(4) --> 5 * 4 * 3 * 2 * 1\n",
    "    \n",
    "factorial(5)"
   ]
  },
  {
   "cell_type": "markdown",
   "id": "366cfe49",
   "metadata": {},
   "source": [
    "# accessing inner List and Tuple"
   ]
  },
  {
   "cell_type": "code",
   "execution_count": 3,
   "id": "081bb359",
   "metadata": {},
   "outputs": [],
   "source": [
    "lst = [1,2,3,(4,5)]\n",
    "\n",
    "tpl = (9,8,7,[6,5])"
   ]
  },
  {
   "cell_type": "code",
   "execution_count": 4,
   "id": "8c941411",
   "metadata": {},
   "outputs": [
    {
     "data": {
      "text/plain": [
       "[1, 2, 3, (4, 5)]"
      ]
     },
     "execution_count": 4,
     "metadata": {},
     "output_type": "execute_result"
    }
   ],
   "source": [
    "lst"
   ]
  },
  {
   "cell_type": "code",
   "execution_count": 5,
   "id": "878b177e",
   "metadata": {},
   "outputs": [
    {
     "data": {
      "text/plain": [
       "(9, 8, 7, [6, 5])"
      ]
     },
     "execution_count": 5,
     "metadata": {},
     "output_type": "execute_result"
    }
   ],
   "source": [
    "tpl"
   ]
  },
  {
   "cell_type": "code",
   "execution_count": 6,
   "id": "3c0ec297",
   "metadata": {},
   "outputs": [
    {
     "data": {
      "text/plain": [
       "1"
      ]
     },
     "execution_count": 6,
     "metadata": {},
     "output_type": "execute_result"
    }
   ],
   "source": [
    "lst[0]"
   ]
  },
  {
   "cell_type": "code",
   "execution_count": 7,
   "id": "6a879683",
   "metadata": {},
   "outputs": [],
   "source": [
    "lst[0] = 100"
   ]
  },
  {
   "cell_type": "code",
   "execution_count": 8,
   "id": "88b9e8b2",
   "metadata": {},
   "outputs": [
    {
     "data": {
      "text/plain": [
       "[100, 2, 3, (4, 5)]"
      ]
     },
     "execution_count": 8,
     "metadata": {},
     "output_type": "execute_result"
    }
   ],
   "source": [
    "lst"
   ]
  },
  {
   "cell_type": "code",
   "execution_count": 9,
   "id": "d3fae4d7",
   "metadata": {},
   "outputs": [
    {
     "data": {
      "text/plain": [
       "(4, 5)"
      ]
     },
     "execution_count": 9,
     "metadata": {},
     "output_type": "execute_result"
    }
   ],
   "source": [
    "lst[3]"
   ]
  },
  {
   "cell_type": "code",
   "execution_count": 10,
   "id": "4c49b053",
   "metadata": {},
   "outputs": [
    {
     "data": {
      "text/plain": [
       "4"
      ]
     },
     "execution_count": 10,
     "metadata": {},
     "output_type": "execute_result"
    }
   ],
   "source": [
    "lst[3][0]"
   ]
  },
  {
   "cell_type": "code",
   "execution_count": 11,
   "id": "c46d817d",
   "metadata": {},
   "outputs": [
    {
     "ename": "TypeError",
     "evalue": "'tuple' object does not support item assignment",
     "output_type": "error",
     "traceback": [
      "\u001b[1;31m---------------------------------------------------------------------------\u001b[0m",
      "\u001b[1;31mTypeError\u001b[0m                                 Traceback (most recent call last)",
      "Input \u001b[1;32mIn [11]\u001b[0m, in \u001b[0;36m<module>\u001b[1;34m\u001b[0m\n\u001b[1;32m----> 1\u001b[0m lst[\u001b[38;5;241m3\u001b[39m][\u001b[38;5;241m0\u001b[39m] \u001b[38;5;241m=\u001b[39m \u001b[38;5;241m400\u001b[39m\n",
      "\u001b[1;31mTypeError\u001b[0m: 'tuple' object does not support item assignment"
     ]
    }
   ],
   "source": [
    "lst[3][0] = 400"
   ]
  },
  {
   "cell_type": "code",
   "execution_count": 12,
   "id": "935f397d",
   "metadata": {},
   "outputs": [
    {
     "data": {
      "text/plain": [
       "(4, 5)"
      ]
     },
     "execution_count": 12,
     "metadata": {},
     "output_type": "execute_result"
    }
   ],
   "source": [
    "lst[3]"
   ]
  },
  {
   "cell_type": "code",
   "execution_count": 13,
   "id": "ae81067e",
   "metadata": {},
   "outputs": [],
   "source": [
    "lst[3] = 45"
   ]
  },
  {
   "cell_type": "code",
   "execution_count": 14,
   "id": "2768222f",
   "metadata": {},
   "outputs": [
    {
     "data": {
      "text/plain": [
       "[100, 2, 3, 45]"
      ]
     },
     "execution_count": 14,
     "metadata": {},
     "output_type": "execute_result"
    }
   ],
   "source": [
    "lst"
   ]
  },
  {
   "cell_type": "code",
   "execution_count": 15,
   "id": "19aef649",
   "metadata": {},
   "outputs": [
    {
     "data": {
      "text/plain": [
       "(9, 8, 7, [6, 5])"
      ]
     },
     "execution_count": 15,
     "metadata": {},
     "output_type": "execute_result"
    }
   ],
   "source": [
    "tpl"
   ]
  },
  {
   "cell_type": "code",
   "execution_count": 16,
   "id": "cb84042e",
   "metadata": {},
   "outputs": [
    {
     "data": {
      "text/plain": [
       "9"
      ]
     },
     "execution_count": 16,
     "metadata": {},
     "output_type": "execute_result"
    }
   ],
   "source": [
    "tpl[0]"
   ]
  },
  {
   "cell_type": "code",
   "execution_count": 17,
   "id": "4699f132",
   "metadata": {},
   "outputs": [
    {
     "ename": "TypeError",
     "evalue": "'tuple' object does not support item assignment",
     "output_type": "error",
     "traceback": [
      "\u001b[1;31m---------------------------------------------------------------------------\u001b[0m",
      "\u001b[1;31mTypeError\u001b[0m                                 Traceback (most recent call last)",
      "Input \u001b[1;32mIn [17]\u001b[0m, in \u001b[0;36m<module>\u001b[1;34m\u001b[0m\n\u001b[1;32m----> 1\u001b[0m tpl[\u001b[38;5;241m0\u001b[39m] \u001b[38;5;241m=\u001b[39m \u001b[38;5;241m900\u001b[39m\n",
      "\u001b[1;31mTypeError\u001b[0m: 'tuple' object does not support item assignment"
     ]
    }
   ],
   "source": [
    "tpl[0] = 900"
   ]
  },
  {
   "cell_type": "code",
   "execution_count": 18,
   "id": "07e0703c",
   "metadata": {},
   "outputs": [
    {
     "data": {
      "text/plain": [
       "[6, 5]"
      ]
     },
     "execution_count": 18,
     "metadata": {},
     "output_type": "execute_result"
    }
   ],
   "source": [
    "tpl[3]"
   ]
  },
  {
   "cell_type": "code",
   "execution_count": 19,
   "id": "79173378",
   "metadata": {},
   "outputs": [
    {
     "ename": "TypeError",
     "evalue": "'tuple' object does not support item assignment",
     "output_type": "error",
     "traceback": [
      "\u001b[1;31m---------------------------------------------------------------------------\u001b[0m",
      "\u001b[1;31mTypeError\u001b[0m                                 Traceback (most recent call last)",
      "Input \u001b[1;32mIn [19]\u001b[0m, in \u001b[0;36m<module>\u001b[1;34m\u001b[0m\n\u001b[1;32m----> 1\u001b[0m tpl[\u001b[38;5;241m3\u001b[39m] \u001b[38;5;241m=\u001b[39m \u001b[38;5;241m65\u001b[39m\n",
      "\u001b[1;31mTypeError\u001b[0m: 'tuple' object does not support item assignment"
     ]
    }
   ],
   "source": [
    "tpl[3] = 65"
   ]
  },
  {
   "cell_type": "code",
   "execution_count": 21,
   "id": "a21cf622",
   "metadata": {},
   "outputs": [
    {
     "data": {
      "text/plain": [
       "6"
      ]
     },
     "execution_count": 21,
     "metadata": {},
     "output_type": "execute_result"
    }
   ],
   "source": [
    "tpl[3][0]"
   ]
  },
  {
   "cell_type": "code",
   "execution_count": 22,
   "id": "75aee98b",
   "metadata": {},
   "outputs": [
    {
     "data": {
      "text/plain": [
       "5"
      ]
     },
     "execution_count": 22,
     "metadata": {},
     "output_type": "execute_result"
    }
   ],
   "source": [
    "tpl[3][1]"
   ]
  },
  {
   "cell_type": "code",
   "execution_count": 23,
   "id": "24ffe0b0",
   "metadata": {},
   "outputs": [],
   "source": [
    "tpl[3][1] = 500"
   ]
  },
  {
   "cell_type": "code",
   "execution_count": 24,
   "id": "0a77649f",
   "metadata": {},
   "outputs": [
    {
     "data": {
      "text/plain": [
       "(9, 8, 7, [6, 500])"
      ]
     },
     "execution_count": 24,
     "metadata": {},
     "output_type": "execute_result"
    }
   ],
   "source": [
    "tpl"
   ]
  },
  {
   "cell_type": "code",
   "execution_count": 25,
   "id": "8feb6b38",
   "metadata": {},
   "outputs": [
    {
     "data": {
      "text/plain": [
       "2073755635280"
      ]
     },
     "execution_count": 25,
     "metadata": {},
     "output_type": "execute_result"
    }
   ],
   "source": [
    "id(tpl)"
   ]
  },
  {
   "cell_type": "code",
   "execution_count": 26,
   "id": "751c5b36",
   "metadata": {},
   "outputs": [
    {
     "data": {
      "text/plain": [
       "140706451822496"
      ]
     },
     "execution_count": 26,
     "metadata": {},
     "output_type": "execute_result"
    }
   ],
   "source": [
    "id(tpl[0])"
   ]
  },
  {
   "cell_type": "code",
   "execution_count": 27,
   "id": "34b90428",
   "metadata": {},
   "outputs": [
    {
     "data": {
      "text/plain": [
       "2073755704064"
      ]
     },
     "execution_count": 27,
     "metadata": {},
     "output_type": "execute_result"
    }
   ],
   "source": [
    "id(tpl[3])"
   ]
  },
  {
   "cell_type": "code",
   "execution_count": 28,
   "id": "14f5a7a1",
   "metadata": {},
   "outputs": [
    {
     "data": {
      "text/plain": [
       "140706451822400"
      ]
     },
     "execution_count": 28,
     "metadata": {},
     "output_type": "execute_result"
    }
   ],
   "source": [
    "id(tpl[3][0])"
   ]
  },
  {
   "cell_type": "markdown",
   "id": "d49253b9",
   "metadata": {},
   "source": [
    "# Remove duplicates from a list"
   ]
  },
  {
   "cell_type": "code",
   "execution_count": 1,
   "id": "4340bde4",
   "metadata": {},
   "outputs": [],
   "source": [
    "lst = [1,2,3,1,2,3,1]  # [1,2,3]"
   ]
  },
  {
   "cell_type": "code",
   "execution_count": 2,
   "id": "99024e68",
   "metadata": {},
   "outputs": [
    {
     "data": {
      "text/plain": [
       "{1, 2, 3}"
      ]
     },
     "execution_count": 2,
     "metadata": {},
     "output_type": "execute_result"
    }
   ],
   "source": [
    "set(lst)"
   ]
  },
  {
   "cell_type": "code",
   "execution_count": 3,
   "id": "5a692e22",
   "metadata": {},
   "outputs": [
    {
     "name": "stdout",
     "output_type": "stream",
     "text": [
      "[1, 2, 3]\n"
     ]
    }
   ],
   "source": [
    "result = []\n",
    "\n",
    "for ele in lst:\n",
    "    if ele not in result:\n",
    "        result.append(ele)\n",
    "\n",
    "        \n",
    "print(result)\n"
   ]
  },
  {
   "cell_type": "code",
   "execution_count": 14,
   "id": "ca639f2b",
   "metadata": {},
   "outputs": [
    {
     "data": {
      "text/plain": [
       "False"
      ]
     },
     "execution_count": 14,
     "metadata": {},
     "output_type": "execute_result"
    }
   ],
   "source": [
    "2 not in [1,2,3]"
   ]
  },
  {
   "cell_type": "markdown",
   "id": "d8947948",
   "metadata": {},
   "source": [
    "# Count no of occuranaces each element in a String/List/Tuple"
   ]
  },
  {
   "cell_type": "code",
   "execution_count": 11,
   "id": "e9af61a1",
   "metadata": {},
   "outputs": [
    {
     "data": {
      "text/plain": [
       "{1: 4, 2: 4, 3: 2}"
      ]
     },
     "execution_count": 11,
     "metadata": {},
     "output_type": "execute_result"
    }
   ],
   "source": [
    "# st = 'pythonpythonabababaap'\n",
    "\n",
    "st = [1,1,1,1,2,3,3,2,2,2]\n",
    "\n",
    "dt = dict.fromkeys(st,0)\n",
    "\n",
    "for char in st:\n",
    "    if char in dt:\n",
    "        dt[char] = dt[char]+1\n",
    "\n",
    "dt"
   ]
  },
  {
   "cell_type": "markdown",
   "id": "2d37ed77",
   "metadata": {},
   "source": [
    "# count of a given element"
   ]
  },
  {
   "cell_type": "code",
   "execution_count": 3,
   "id": "c856d5be",
   "metadata": {},
   "outputs": [
    {
     "data": {
      "text/plain": [
       "0"
      ]
     },
     "execution_count": 3,
     "metadata": {},
     "output_type": "execute_result"
    }
   ],
   "source": [
    "lst = [1,2,3,1,1,2,4,5]\n",
    "\n",
    "lst.count(7)"
   ]
  },
  {
   "cell_type": "code",
   "execution_count": 16,
   "id": "8d59445e",
   "metadata": {},
   "outputs": [
    {
     "data": {
      "text/plain": [
       "0"
      ]
     },
     "execution_count": 16,
     "metadata": {},
     "output_type": "execute_result"
    }
   ],
   "source": [
    "def count_test(lst, n):\n",
    "    count_value = 0\n",
    "    for i in lst:\n",
    "        if i == n:\n",
    "            count_value = count_value + 1\n",
    "            \n",
    "    return count_value\n",
    "\n",
    "abc = [1,2,3,1,1,2,4,5,1,2,1,5]\n",
    "k = 55\n",
    "count_test(abc,k) # count([1,2,3,1,1,2,4,5,1,2,1,5],2)"
   ]
  },
  {
   "cell_type": "code",
   "execution_count": 16,
   "id": "6f599106",
   "metadata": {},
   "outputs": [
    {
     "data": {
      "text/plain": [
       "2"
      ]
     },
     "execution_count": 16,
     "metadata": {},
     "output_type": "execute_result"
    }
   ],
   "source": [
    "len('line number'.split(\" \"))"
   ]
  },
  {
   "cell_type": "code",
   "execution_count": 14,
   "id": "d52d9aab",
   "metadata": {},
   "outputs": [
    {
     "data": {
      "text/plain": [
       "3"
      ]
     },
     "execution_count": 14,
     "metadata": {},
     "output_type": "execute_result"
    }
   ],
   "source": [
    "len(['line', 'number', 'one'])\n"
   ]
  },
  {
   "cell_type": "code",
   "execution_count": 20,
   "id": "4339fefa",
   "metadata": {},
   "outputs": [
    {
     "data": {
      "text/plain": [
       "17"
      ]
     },
     "execution_count": 20,
     "metadata": {},
     "output_type": "execute_result"
    }
   ],
   "source": [
    "len('line number three')"
   ]
  },
  {
   "cell_type": "markdown",
   "id": "8b3a4be1",
   "metadata": {},
   "source": [
    "# Count no of lines,words and characters in a file"
   ]
  },
  {
   "cell_type": "code",
   "execution_count": 26,
   "id": "a92834a4",
   "metadata": {},
   "outputs": [
    {
     "name": "stdout",
     "output_type": "stream",
     "text": [
      "line count -  6\n",
      "word count -  20\n",
      "char count -  109\n"
     ]
    }
   ],
   "source": [
    "line_count = 0\n",
    "word_count = 0\n",
    "char_count = 0\n",
    "fp = open('sample.txt')\n",
    "\n",
    "file_data_lines = fp.readlines()\n",
    "# print(len(file_data_lines))\n",
    "\n",
    "for line in file_data_lines:\n",
    "    line_count = line_count + 1\n",
    "    word_count = word_count + len(line.split(' '))\n",
    "    char_count = char_count + len(line)\n",
    "\n",
    "\n",
    "print('line count - ',line_count)\n",
    "print('word count - ',word_count)\n",
    "print('char count - ',char_count)"
   ]
  },
  {
   "cell_type": "markdown",
   "id": "be3f16e1",
   "metadata": {},
   "source": [
    "# Sort vs Sorted"
   ]
  },
  {
   "cell_type": "code",
   "execution_count": null,
   "id": "6c03e672",
   "metadata": {},
   "outputs": [],
   "source": []
  },
  {
   "cell_type": "markdown",
   "id": "263983ec",
   "metadata": {},
   "source": [
    "# Prime Numbers"
   ]
  },
  {
   "cell_type": "code",
   "execution_count": null,
   "id": "f8e81a93",
   "metadata": {},
   "outputs": [],
   "source": []
  },
  {
   "cell_type": "markdown",
   "id": "3b82b860",
   "metadata": {},
   "source": [
    "# Enumerate"
   ]
  },
  {
   "cell_type": "code",
   "execution_count": null,
   "id": "804d4545",
   "metadata": {},
   "outputs": [],
   "source": []
  },
  {
   "cell_type": "markdown",
   "id": "b266318f",
   "metadata": {},
   "source": [
    "# Zip"
   ]
  },
  {
   "cell_type": "code",
   "execution_count": null,
   "id": "c10c9393",
   "metadata": {},
   "outputs": [],
   "source": []
  }
 ],
 "metadata": {
  "kernelspec": {
   "display_name": "Python 3 (ipykernel)",
   "language": "python",
   "name": "python3"
  },
  "language_info": {
   "codemirror_mode": {
    "name": "ipython",
    "version": 3
   },
   "file_extension": ".py",
   "mimetype": "text/x-python",
   "name": "python",
   "nbconvert_exporter": "python",
   "pygments_lexer": "ipython3",
   "version": "3.8.3"
  }
 },
 "nbformat": 4,
 "nbformat_minor": 5
}
