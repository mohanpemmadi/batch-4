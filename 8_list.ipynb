{
 "cells": [
  {
   "cell_type": "markdown",
   "id": "9f5df781",
   "metadata": {},
   "source": [
    "# List is a collection of ordered elements and it is a mutable object."
   ]
  },
  {
   "cell_type": "code",
   "execution_count": 1,
   "id": "bbc6618f",
   "metadata": {},
   "outputs": [],
   "source": [
    "lst = []"
   ]
  },
  {
   "cell_type": "code",
   "execution_count": 2,
   "id": "d2ae118a",
   "metadata": {},
   "outputs": [
    {
     "data": {
      "text/plain": [
       "list"
      ]
     },
     "execution_count": 2,
     "metadata": {},
     "output_type": "execute_result"
    }
   ],
   "source": [
    "type(lst)"
   ]
  },
  {
   "cell_type": "code",
   "execution_count": 3,
   "id": "37f2081a",
   "metadata": {},
   "outputs": [],
   "source": [
    "lst1 = list()"
   ]
  },
  {
   "cell_type": "code",
   "execution_count": 4,
   "id": "6dc242af",
   "metadata": {},
   "outputs": [
    {
     "data": {
      "text/plain": [
       "list"
      ]
     },
     "execution_count": 4,
     "metadata": {},
     "output_type": "execute_result"
    }
   ],
   "source": [
    "type(lst1)"
   ]
  },
  {
   "cell_type": "code",
   "execution_count": 5,
   "id": "02509975",
   "metadata": {},
   "outputs": [],
   "source": [
    "lst = ['mohan',200,12.34,True,'abc']\n",
    "\n",
    "#        0      1    2    3     4"
   ]
  },
  {
   "cell_type": "code",
   "execution_count": 6,
   "id": "5f2adb90",
   "metadata": {},
   "outputs": [
    {
     "data": {
      "text/plain": [
       "['mohan', 200, 12.34, True, 'abc']"
      ]
     },
     "execution_count": 6,
     "metadata": {},
     "output_type": "execute_result"
    }
   ],
   "source": [
    "lst"
   ]
  },
  {
   "cell_type": "code",
   "execution_count": 7,
   "id": "a3c6b7fb",
   "metadata": {},
   "outputs": [
    {
     "data": {
      "text/plain": [
       "'mohan'"
      ]
     },
     "execution_count": 7,
     "metadata": {},
     "output_type": "execute_result"
    }
   ],
   "source": [
    "lst[0]"
   ]
  },
  {
   "cell_type": "code",
   "execution_count": 8,
   "id": "e68c6b1c",
   "metadata": {},
   "outputs": [
    {
     "data": {
      "text/plain": [
       "True"
      ]
     },
     "execution_count": 8,
     "metadata": {},
     "output_type": "execute_result"
    }
   ],
   "source": [
    "lst[3]"
   ]
  },
  {
   "cell_type": "code",
   "execution_count": 9,
   "id": "d24babb0",
   "metadata": {},
   "outputs": [
    {
     "data": {
      "text/plain": [
       "[200, 12.34, True]"
      ]
     },
     "execution_count": 9,
     "metadata": {},
     "output_type": "execute_result"
    }
   ],
   "source": [
    "lst[1:4]"
   ]
  },
  {
   "cell_type": "code",
   "execution_count": 10,
   "id": "3875d1db",
   "metadata": {},
   "outputs": [
    {
     "data": {
      "text/plain": [
       "['mohan', 200, 12.34, True]"
      ]
     },
     "execution_count": 10,
     "metadata": {},
     "output_type": "execute_result"
    }
   ],
   "source": [
    "lst[:4]"
   ]
  },
  {
   "cell_type": "code",
   "execution_count": 11,
   "id": "0c57e7cd",
   "metadata": {},
   "outputs": [
    {
     "data": {
      "text/plain": [
       "[12.34, True, 'abc']"
      ]
     },
     "execution_count": 11,
     "metadata": {},
     "output_type": "execute_result"
    }
   ],
   "source": [
    "lst[2:5]"
   ]
  },
  {
   "cell_type": "code",
   "execution_count": 12,
   "id": "91681c1d",
   "metadata": {},
   "outputs": [
    {
     "data": {
      "text/plain": [
       "5"
      ]
     },
     "execution_count": 12,
     "metadata": {},
     "output_type": "execute_result"
    }
   ],
   "source": [
    "len(lst)"
   ]
  },
  {
   "cell_type": "code",
   "execution_count": 13,
   "id": "bb8b1dd8",
   "metadata": {},
   "outputs": [
    {
     "ename": "IndexError",
     "evalue": "list index out of range",
     "output_type": "error",
     "traceback": [
      "\u001b[1;31m---------------------------------------------------------------------------\u001b[0m",
      "\u001b[1;31mIndexError\u001b[0m                                Traceback (most recent call last)",
      "Input \u001b[1;32mIn [13]\u001b[0m, in \u001b[0;36m<module>\u001b[1;34m\u001b[0m\n\u001b[1;32m----> 1\u001b[0m \u001b[43mlst\u001b[49m\u001b[43m[\u001b[49m\u001b[38;5;241;43m5\u001b[39;49m\u001b[43m]\u001b[49m\n",
      "\u001b[1;31mIndexError\u001b[0m: list index out of range"
     ]
    }
   ],
   "source": [
    "lst[5]"
   ]
  },
  {
   "cell_type": "code",
   "execution_count": 14,
   "id": "ff1abfb7",
   "metadata": {},
   "outputs": [
    {
     "data": {
      "text/plain": [
       "['mohan', 200, 12.34, True, 'abc']"
      ]
     },
     "execution_count": 14,
     "metadata": {},
     "output_type": "execute_result"
    }
   ],
   "source": [
    "lst"
   ]
  },
  {
   "cell_type": "code",
   "execution_count": 15,
   "id": "06d62d8f",
   "metadata": {},
   "outputs": [
    {
     "data": {
      "text/plain": [
       "'mohan'"
      ]
     },
     "execution_count": 15,
     "metadata": {},
     "output_type": "execute_result"
    }
   ],
   "source": [
    "lst[0]"
   ]
  },
  {
   "cell_type": "code",
   "execution_count": 16,
   "id": "6703ba76",
   "metadata": {},
   "outputs": [],
   "source": [
    "lst[0] = 1000"
   ]
  },
  {
   "cell_type": "code",
   "execution_count": 17,
   "id": "d132085e",
   "metadata": {},
   "outputs": [
    {
     "data": {
      "text/plain": [
       "[1000, 200, 12.34, True, 'abc']"
      ]
     },
     "execution_count": 17,
     "metadata": {},
     "output_type": "execute_result"
    }
   ],
   "source": [
    "lst"
   ]
  },
  {
   "cell_type": "code",
   "execution_count": 18,
   "id": "e23fee8c",
   "metadata": {},
   "outputs": [
    {
     "data": {
      "text/plain": [
       "[200, 12.34]"
      ]
     },
     "execution_count": 18,
     "metadata": {},
     "output_type": "execute_result"
    }
   ],
   "source": [
    "lst[1:3]"
   ]
  },
  {
   "cell_type": "code",
   "execution_count": 20,
   "id": "5c1361d9",
   "metadata": {},
   "outputs": [],
   "source": [
    "lst[1:3] = [500,56.78]"
   ]
  },
  {
   "cell_type": "code",
   "execution_count": 25,
   "id": "93bff7de",
   "metadata": {},
   "outputs": [
    {
     "data": {
      "text/plain": [
       "[1000, 500, 56.78, True, 'abc']"
      ]
     },
     "execution_count": 25,
     "metadata": {},
     "output_type": "execute_result"
    }
   ],
   "source": [
    "lst"
   ]
  },
  {
   "cell_type": "code",
   "execution_count": 24,
   "id": "8a2b46e2",
   "metadata": {},
   "outputs": [],
   "source": [
    "# dir(lst)\n",
    "\n",
    "# 'append',\n",
    "#  'clear',\n",
    "#  'copy',\n",
    "#  'count',\n",
    "#  'extend',\n",
    "#  'index',\n",
    "#  'insert',\n",
    "#  'pop',\n",
    "#  'remove',\n",
    "#  'reverse',\n",
    "#  'sort'"
   ]
  },
  {
   "cell_type": "code",
   "execution_count": 26,
   "id": "18f72a4d",
   "metadata": {},
   "outputs": [],
   "source": [
    "# append\n",
    "\n",
    "lst.append(123)"
   ]
  },
  {
   "cell_type": "code",
   "execution_count": 27,
   "id": "9be293fd",
   "metadata": {},
   "outputs": [
    {
     "data": {
      "text/plain": [
       "[1000, 500, 56.78, True, 'abc', 123]"
      ]
     },
     "execution_count": 27,
     "metadata": {},
     "output_type": "execute_result"
    }
   ],
   "source": [
    "lst"
   ]
  },
  {
   "cell_type": "code",
   "execution_count": 28,
   "id": "8c666847",
   "metadata": {},
   "outputs": [],
   "source": [
    "lst.append('xyz')"
   ]
  },
  {
   "cell_type": "code",
   "execution_count": 29,
   "id": "ee8dac70",
   "metadata": {},
   "outputs": [
    {
     "data": {
      "text/plain": [
       "[1000, 500, 56.78, True, 'abc', 123, 'xyz']"
      ]
     },
     "execution_count": 29,
     "metadata": {},
     "output_type": "execute_result"
    }
   ],
   "source": [
    "lst"
   ]
  },
  {
   "cell_type": "code",
   "execution_count": 31,
   "id": "bc792c7a",
   "metadata": {},
   "outputs": [],
   "source": [
    "# insert\n",
    "\n",
    "lst.insert(1,'mohan')   #(index,value)"
   ]
  },
  {
   "cell_type": "code",
   "execution_count": 32,
   "id": "cf3149b2",
   "metadata": {},
   "outputs": [
    {
     "data": {
      "text/plain": [
       "[1000, 'mohan', 500, 56.78, True, 'abc', 123, 'xyz']"
      ]
     },
     "execution_count": 32,
     "metadata": {},
     "output_type": "execute_result"
    }
   ],
   "source": [
    "lst"
   ]
  },
  {
   "cell_type": "code",
   "execution_count": 34,
   "id": "9e047505",
   "metadata": {},
   "outputs": [],
   "source": [
    "lst.insert(5,'10k')"
   ]
  },
  {
   "cell_type": "code",
   "execution_count": 35,
   "id": "7c4fb26d",
   "metadata": {},
   "outputs": [
    {
     "data": {
      "text/plain": [
       "[1000, 'mohan', 500, 56.78, True, '10k', 'abc', 123, 'xyz']"
      ]
     },
     "execution_count": 35,
     "metadata": {},
     "output_type": "execute_result"
    }
   ],
   "source": [
    "lst"
   ]
  },
  {
   "cell_type": "code",
   "execution_count": 36,
   "id": "e2f5f249",
   "metadata": {},
   "outputs": [],
   "source": [
    "# extend\n",
    "\n",
    "lst.append([1,2,3])"
   ]
  },
  {
   "cell_type": "code",
   "execution_count": 37,
   "id": "521ee1bf",
   "metadata": {},
   "outputs": [
    {
     "data": {
      "text/plain": [
       "[1000, 'mohan', 500, 56.78, True, '10k', 'abc', 123, 'xyz', [1, 2, 3]]"
      ]
     },
     "execution_count": 37,
     "metadata": {},
     "output_type": "execute_result"
    }
   ],
   "source": [
    "lst"
   ]
  },
  {
   "cell_type": "code",
   "execution_count": 38,
   "id": "f85a57ab",
   "metadata": {},
   "outputs": [],
   "source": [
    "lst.extend([4,5,6])"
   ]
  },
  {
   "cell_type": "code",
   "execution_count": 39,
   "id": "dfcac73a",
   "metadata": {},
   "outputs": [
    {
     "data": {
      "text/plain": [
       "[1000, 'mohan', 500, 56.78, True, '10k', 'abc', 123, 'xyz', [1, 2, 3], 4, 5, 6]"
      ]
     },
     "execution_count": 39,
     "metadata": {},
     "output_type": "execute_result"
    }
   ],
   "source": [
    "lst"
   ]
  },
  {
   "cell_type": "code",
   "execution_count": 41,
   "id": "4b15754d",
   "metadata": {},
   "outputs": [
    {
     "data": {
      "text/plain": [
       "1"
      ]
     },
     "execution_count": 41,
     "metadata": {},
     "output_type": "execute_result"
    }
   ],
   "source": [
    "# index\n",
    "\n",
    "lst.index('mohan')    #index(value)"
   ]
  },
  {
   "cell_type": "code",
   "execution_count": 42,
   "id": "3860f680",
   "metadata": {},
   "outputs": [
    {
     "data": {
      "text/plain": [
       "5"
      ]
     },
     "execution_count": 42,
     "metadata": {},
     "output_type": "execute_result"
    }
   ],
   "source": [
    "lst.index('10k') "
   ]
  },
  {
   "cell_type": "code",
   "execution_count": 43,
   "id": "d3107751",
   "metadata": {},
   "outputs": [
    {
     "data": {
      "text/plain": [
       "1"
      ]
     },
     "execution_count": 43,
     "metadata": {},
     "output_type": "execute_result"
    }
   ],
   "source": [
    "# count\n",
    "\n",
    "lst.count(500)    # index(value)"
   ]
  },
  {
   "cell_type": "code",
   "execution_count": 45,
   "id": "dec79768",
   "metadata": {},
   "outputs": [],
   "source": [
    "lst.append(500)"
   ]
  },
  {
   "cell_type": "code",
   "execution_count": 46,
   "id": "a0187a18",
   "metadata": {},
   "outputs": [
    {
     "data": {
      "text/plain": [
       "[1000,\n",
       " 'mohan',\n",
       " 500,\n",
       " 56.78,\n",
       " True,\n",
       " '10k',\n",
       " 'abc',\n",
       " 123,\n",
       " 'xyz',\n",
       " [1, 2, 3],\n",
       " 4,\n",
       " 5,\n",
       " 6,\n",
       " 500,\n",
       " 500]"
      ]
     },
     "execution_count": 46,
     "metadata": {},
     "output_type": "execute_result"
    }
   ],
   "source": [
    "lst"
   ]
  },
  {
   "cell_type": "code",
   "execution_count": 47,
   "id": "c06945ce",
   "metadata": {},
   "outputs": [
    {
     "data": {
      "text/plain": [
       "3"
      ]
     },
     "execution_count": 47,
     "metadata": {},
     "output_type": "execute_result"
    }
   ],
   "source": [
    "lst.count(500)"
   ]
  },
  {
   "cell_type": "code",
   "execution_count": 48,
   "id": "5b3cc122",
   "metadata": {},
   "outputs": [],
   "source": [
    "# remove\n",
    "\n",
    "lst.remove('10k')  # remove(value)"
   ]
  },
  {
   "cell_type": "code",
   "execution_count": 49,
   "id": "c0c15007",
   "metadata": {},
   "outputs": [
    {
     "data": {
      "text/plain": [
       "[1000,\n",
       " 'mohan',\n",
       " 500,\n",
       " 56.78,\n",
       " True,\n",
       " 'abc',\n",
       " 123,\n",
       " 'xyz',\n",
       " [1, 2, 3],\n",
       " 4,\n",
       " 5,\n",
       " 6,\n",
       " 500,\n",
       " 500]"
      ]
     },
     "execution_count": 49,
     "metadata": {},
     "output_type": "execute_result"
    }
   ],
   "source": [
    "lst"
   ]
  },
  {
   "cell_type": "code",
   "execution_count": 50,
   "id": "625675f4",
   "metadata": {},
   "outputs": [],
   "source": [
    "lst.remove(500)"
   ]
  },
  {
   "cell_type": "code",
   "execution_count": 51,
   "id": "47d44aba",
   "metadata": {},
   "outputs": [
    {
     "data": {
      "text/plain": [
       "[1000, 'mohan', 56.78, True, 'abc', 123, 'xyz', [1, 2, 3], 4, 5, 6, 500, 500]"
      ]
     },
     "execution_count": 51,
     "metadata": {},
     "output_type": "execute_result"
    }
   ],
   "source": [
    "lst"
   ]
  },
  {
   "cell_type": "code",
   "execution_count": 52,
   "id": "9f9f4e44",
   "metadata": {},
   "outputs": [],
   "source": [
    "lst.remove(500)"
   ]
  },
  {
   "cell_type": "code",
   "execution_count": 53,
   "id": "64d17150",
   "metadata": {},
   "outputs": [
    {
     "data": {
      "text/plain": [
       "[1000, 'mohan', 56.78, True, 'abc', 123, 'xyz', [1, 2, 3], 4, 5, 6, 500]"
      ]
     },
     "execution_count": 53,
     "metadata": {},
     "output_type": "execute_result"
    }
   ],
   "source": [
    "lst"
   ]
  },
  {
   "cell_type": "code",
   "execution_count": 54,
   "id": "a653443e",
   "metadata": {},
   "outputs": [
    {
     "data": {
      "text/plain": [
       "500"
      ]
     },
     "execution_count": 54,
     "metadata": {},
     "output_type": "execute_result"
    }
   ],
   "source": [
    "# pop  \n",
    "\n",
    "lst.pop()"
   ]
  },
  {
   "cell_type": "code",
   "execution_count": 55,
   "id": "e494804d",
   "metadata": {},
   "outputs": [
    {
     "data": {
      "text/plain": [
       "[1000, 'mohan', 56.78, True, 'abc', 123, 'xyz', [1, 2, 3], 4, 5, 6]"
      ]
     },
     "execution_count": 55,
     "metadata": {},
     "output_type": "execute_result"
    }
   ],
   "source": [
    "lst"
   ]
  },
  {
   "cell_type": "code",
   "execution_count": 56,
   "id": "3263c480",
   "metadata": {},
   "outputs": [
    {
     "data": {
      "text/plain": [
       "6"
      ]
     },
     "execution_count": 56,
     "metadata": {},
     "output_type": "execute_result"
    }
   ],
   "source": [
    "lst.pop()"
   ]
  },
  {
   "cell_type": "code",
   "execution_count": 57,
   "id": "0d690710",
   "metadata": {},
   "outputs": [
    {
     "data": {
      "text/plain": [
       "[1000, 'mohan', 56.78, True, 'abc', 123, 'xyz', [1, 2, 3], 4, 5]"
      ]
     },
     "execution_count": 57,
     "metadata": {},
     "output_type": "execute_result"
    }
   ],
   "source": [
    "lst"
   ]
  },
  {
   "cell_type": "code",
   "execution_count": 58,
   "id": "668e57e7",
   "metadata": {},
   "outputs": [
    {
     "data": {
      "text/plain": [
       "1000"
      ]
     },
     "execution_count": 58,
     "metadata": {},
     "output_type": "execute_result"
    }
   ],
   "source": [
    "lst.pop(0) # pop(index)"
   ]
  },
  {
   "cell_type": "code",
   "execution_count": 59,
   "id": "42a4871b",
   "metadata": {},
   "outputs": [
    {
     "data": {
      "text/plain": [
       "['mohan', 56.78, True, 'abc', 123, 'xyz', [1, 2, 3], 4, 5]"
      ]
     },
     "execution_count": 59,
     "metadata": {},
     "output_type": "execute_result"
    }
   ],
   "source": [
    "lst"
   ]
  },
  {
   "cell_type": "code",
   "execution_count": 60,
   "id": "17227f8a",
   "metadata": {},
   "outputs": [
    {
     "data": {
      "text/plain": [
       "[1, 2, 3]"
      ]
     },
     "execution_count": 60,
     "metadata": {},
     "output_type": "execute_result"
    }
   ],
   "source": [
    "lst.pop(6)"
   ]
  },
  {
   "cell_type": "code",
   "execution_count": 61,
   "id": "88dac6e4",
   "metadata": {},
   "outputs": [
    {
     "data": {
      "text/plain": [
       "['mohan', 56.78, True, 'abc', 123, 'xyz', 4, 5]"
      ]
     },
     "execution_count": 61,
     "metadata": {},
     "output_type": "execute_result"
    }
   ],
   "source": [
    "lst"
   ]
  },
  {
   "cell_type": "code",
   "execution_count": 64,
   "id": "0740e66a",
   "metadata": {},
   "outputs": [],
   "source": [
    "l = [200,50.55,55,150.23,10,250]"
   ]
  },
  {
   "cell_type": "code",
   "execution_count": 65,
   "id": "1b30b357",
   "metadata": {},
   "outputs": [
    {
     "data": {
      "text/plain": [
       "[200, 50.55, 55, 150.23, 10, 250]"
      ]
     },
     "execution_count": 65,
     "metadata": {},
     "output_type": "execute_result"
    }
   ],
   "source": [
    "l"
   ]
  },
  {
   "cell_type": "code",
   "execution_count": 67,
   "id": "b87d4c73",
   "metadata": {},
   "outputs": [],
   "source": [
    "# reverse\n",
    "\n",
    "l.reverse()"
   ]
  },
  {
   "cell_type": "code",
   "execution_count": 68,
   "id": "6ab32dc2",
   "metadata": {},
   "outputs": [
    {
     "data": {
      "text/plain": [
       "[250, 10, 150.23, 55, 50.55, 200]"
      ]
     },
     "execution_count": 68,
     "metadata": {},
     "output_type": "execute_result"
    }
   ],
   "source": [
    "l"
   ]
  },
  {
   "cell_type": "code",
   "execution_count": 69,
   "id": "03f7570f",
   "metadata": {},
   "outputs": [],
   "source": [
    "lst.reverse()"
   ]
  },
  {
   "cell_type": "code",
   "execution_count": 70,
   "id": "ee1734ce",
   "metadata": {},
   "outputs": [
    {
     "data": {
      "text/plain": [
       "[5, 4, 'xyz', 123, 'abc', True, 56.78, 'mohan']"
      ]
     },
     "execution_count": 70,
     "metadata": {},
     "output_type": "execute_result"
    }
   ],
   "source": [
    "lst"
   ]
  },
  {
   "cell_type": "code",
   "execution_count": 71,
   "id": "d0c0bc4b",
   "metadata": {},
   "outputs": [
    {
     "data": {
      "text/plain": [
       "[250, 10, 150.23, 55, 50.55, 200]"
      ]
     },
     "execution_count": 71,
     "metadata": {},
     "output_type": "execute_result"
    }
   ],
   "source": [
    "l"
   ]
  },
  {
   "cell_type": "code",
   "execution_count": 72,
   "id": "4071e827",
   "metadata": {},
   "outputs": [],
   "source": [
    "# sort\n",
    "l.sort()"
   ]
  },
  {
   "cell_type": "code",
   "execution_count": 73,
   "id": "4834e43f",
   "metadata": {},
   "outputs": [
    {
     "data": {
      "text/plain": [
       "[10, 50.55, 55, 150.23, 200, 250]"
      ]
     },
     "execution_count": 73,
     "metadata": {},
     "output_type": "execute_result"
    }
   ],
   "source": [
    "l"
   ]
  },
  {
   "cell_type": "code",
   "execution_count": 74,
   "id": "c1e50b48",
   "metadata": {},
   "outputs": [],
   "source": [
    "ll = ['z','a','ab','abc','m']"
   ]
  },
  {
   "cell_type": "code",
   "execution_count": 75,
   "id": "385656bb",
   "metadata": {},
   "outputs": [],
   "source": [
    "ll.sort()"
   ]
  },
  {
   "cell_type": "code",
   "execution_count": 76,
   "id": "c7839248",
   "metadata": {},
   "outputs": [
    {
     "data": {
      "text/plain": [
       "['a', 'ab', 'abc', 'm', 'z']"
      ]
     },
     "execution_count": 76,
     "metadata": {},
     "output_type": "execute_result"
    }
   ],
   "source": [
    "ll"
   ]
  },
  {
   "cell_type": "code",
   "execution_count": 77,
   "id": "db463c5c",
   "metadata": {},
   "outputs": [
    {
     "data": {
      "text/plain": [
       "[5, 4, 'xyz', 123, 'abc', True, 56.78, 'mohan']"
      ]
     },
     "execution_count": 77,
     "metadata": {},
     "output_type": "execute_result"
    }
   ],
   "source": [
    "lst"
   ]
  },
  {
   "cell_type": "code",
   "execution_count": 78,
   "id": "99c4e823",
   "metadata": {},
   "outputs": [
    {
     "ename": "TypeError",
     "evalue": "'<' not supported between instances of 'str' and 'int'",
     "output_type": "error",
     "traceback": [
      "\u001b[1;31m---------------------------------------------------------------------------\u001b[0m",
      "\u001b[1;31mTypeError\u001b[0m                                 Traceback (most recent call last)",
      "Input \u001b[1;32mIn [78]\u001b[0m, in \u001b[0;36m<module>\u001b[1;34m\u001b[0m\n\u001b[1;32m----> 1\u001b[0m \u001b[43mlst\u001b[49m\u001b[38;5;241;43m.\u001b[39;49m\u001b[43msort\u001b[49m\u001b[43m(\u001b[49m\u001b[43m)\u001b[49m\n",
      "\u001b[1;31mTypeError\u001b[0m: '<' not supported between instances of 'str' and 'int'"
     ]
    }
   ],
   "source": [
    "lst.sort()"
   ]
  },
  {
   "cell_type": "code",
   "execution_count": 79,
   "id": "bb2ee145",
   "metadata": {},
   "outputs": [
    {
     "data": {
      "text/plain": [
       "[5, 4, 'xyz', 123, 'abc', True, 56.78, 'mohan']"
      ]
     },
     "execution_count": 79,
     "metadata": {},
     "output_type": "execute_result"
    }
   ],
   "source": [
    "# copy\n",
    "\n",
    "lst"
   ]
  },
  {
   "cell_type": "code",
   "execution_count": 80,
   "id": "925fbf9b",
   "metadata": {},
   "outputs": [],
   "source": [
    "lst1 = lst.copy()"
   ]
  },
  {
   "cell_type": "code",
   "execution_count": 81,
   "id": "d8a6c562",
   "metadata": {},
   "outputs": [
    {
     "data": {
      "text/plain": [
       "[5, 4, 'xyz', 123, 'abc', True, 56.78, 'mohan']"
      ]
     },
     "execution_count": 81,
     "metadata": {},
     "output_type": "execute_result"
    }
   ],
   "source": [
    "lst1"
   ]
  },
  {
   "cell_type": "code",
   "execution_count": 82,
   "id": "1bb9a33c",
   "metadata": {},
   "outputs": [
    {
     "data": {
      "text/plain": [
       "[5, 4, 'xyz', 123, 'abc', True, 56.78, 'mohan']"
      ]
     },
     "execution_count": 82,
     "metadata": {},
     "output_type": "execute_result"
    }
   ],
   "source": [
    "lst"
   ]
  },
  {
   "cell_type": "code",
   "execution_count": 83,
   "id": "a561a491",
   "metadata": {},
   "outputs": [],
   "source": [
    "# clear\n",
    "\n",
    "lst1.clear()"
   ]
  },
  {
   "cell_type": "code",
   "execution_count": 84,
   "id": "4eb8337b",
   "metadata": {},
   "outputs": [
    {
     "data": {
      "text/plain": [
       "[]"
      ]
     },
     "execution_count": 84,
     "metadata": {},
     "output_type": "execute_result"
    }
   ],
   "source": [
    "lst1"
   ]
  },
  {
   "cell_type": "code",
   "execution_count": 85,
   "id": "c7e198a9",
   "metadata": {},
   "outputs": [
    {
     "data": {
      "text/plain": [
       "[5, 4, 'xyz', 123, 'abc', True, 56.78, 'mohan']"
      ]
     },
     "execution_count": 85,
     "metadata": {},
     "output_type": "execute_result"
    }
   ],
   "source": [
    "lst"
   ]
  },
  {
   "cell_type": "code",
   "execution_count": null,
   "id": "ee81e199",
   "metadata": {},
   "outputs": [],
   "source": []
  }
 ],
 "metadata": {
  "kernelspec": {
   "display_name": "Python 3 (ipykernel)",
   "language": "python",
   "name": "python3"
  },
  "language_info": {
   "codemirror_mode": {
    "name": "ipython",
    "version": 3
   },
   "file_extension": ".py",
   "mimetype": "text/x-python",
   "name": "python",
   "nbconvert_exporter": "python",
   "pygments_lexer": "ipython3",
   "version": "3.8.3"
  }
 },
 "nbformat": 4,
 "nbformat_minor": 5
}
