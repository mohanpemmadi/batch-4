{
 "cells": [
  {
   "cell_type": "markdown",
   "id": "8b94bb13",
   "metadata": {},
   "source": [
    "# Dictionary is a collection of unordered key-value pairs.\n",
    "\n",
    "\t* Dictionaries are mutable objects.\n",
    "\t* keys must be unique \n",
    "\t* keys must be immutables"
   ]
  },
  {
   "cell_type": "code",
   "execution_count": 1,
   "id": "2e565558",
   "metadata": {},
   "outputs": [],
   "source": [
    "dt = dict()"
   ]
  },
  {
   "cell_type": "code",
   "execution_count": 2,
   "id": "a7ea347e",
   "metadata": {},
   "outputs": [
    {
     "data": {
      "text/plain": [
       "dict"
      ]
     },
     "execution_count": 2,
     "metadata": {},
     "output_type": "execute_result"
    }
   ],
   "source": [
    "type(dt)"
   ]
  },
  {
   "cell_type": "code",
   "execution_count": 3,
   "id": "2fc5ea8b",
   "metadata": {},
   "outputs": [],
   "source": [
    "dt = {'name':'ravi','age':30,'salary':1000,'status':True}"
   ]
  },
  {
   "cell_type": "code",
   "execution_count": 4,
   "id": "b9dbdfa1",
   "metadata": {},
   "outputs": [
    {
     "data": {
      "text/plain": [
       "{'name': 'ravi', 'age': 30, 'salary': 1000, 'status': True}"
      ]
     },
     "execution_count": 4,
     "metadata": {},
     "output_type": "execute_result"
    }
   ],
   "source": [
    "dt"
   ]
  },
  {
   "cell_type": "code",
   "execution_count": 5,
   "id": "8a53eef4",
   "metadata": {},
   "outputs": [
    {
     "ename": "KeyError",
     "evalue": "0",
     "output_type": "error",
     "traceback": [
      "\u001b[1;31m---------------------------------------------------------------------------\u001b[0m",
      "\u001b[1;31mKeyError\u001b[0m                                  Traceback (most recent call last)",
      "Input \u001b[1;32mIn [5]\u001b[0m, in \u001b[0;36m<module>\u001b[1;34m\u001b[0m\n\u001b[1;32m----> 1\u001b[0m \u001b[43mdt\u001b[49m\u001b[43m[\u001b[49m\u001b[38;5;241;43m0\u001b[39;49m\u001b[43m]\u001b[49m\n",
      "\u001b[1;31mKeyError\u001b[0m: 0"
     ]
    }
   ],
   "source": [
    "dt[0]"
   ]
  },
  {
   "cell_type": "code",
   "execution_count": 6,
   "id": "40b05739",
   "metadata": {},
   "outputs": [
    {
     "data": {
      "text/plain": [
       "'ravi'"
      ]
     },
     "execution_count": 6,
     "metadata": {},
     "output_type": "execute_result"
    }
   ],
   "source": [
    "dt['name']"
   ]
  },
  {
   "cell_type": "code",
   "execution_count": 9,
   "id": "3be47f9a",
   "metadata": {},
   "outputs": [
    {
     "data": {
      "text/plain": [
       "1000"
      ]
     },
     "execution_count": 9,
     "metadata": {},
     "output_type": "execute_result"
    }
   ],
   "source": [
    "dt['salary']"
   ]
  },
  {
   "cell_type": "code",
   "execution_count": 8,
   "id": "0d52d58b",
   "metadata": {},
   "outputs": [
    {
     "data": {
      "text/plain": [
       "{'name': 'ravi', 'age': 30, 'salary': 1000, 'status': True}"
      ]
     },
     "execution_count": 8,
     "metadata": {},
     "output_type": "execute_result"
    }
   ],
   "source": [
    "dt"
   ]
  },
  {
   "cell_type": "code",
   "execution_count": 10,
   "id": "672dd84d",
   "metadata": {},
   "outputs": [],
   "source": [
    "dt['salary'] = 2000"
   ]
  },
  {
   "cell_type": "code",
   "execution_count": 11,
   "id": "34798af4",
   "metadata": {},
   "outputs": [
    {
     "data": {
      "text/plain": [
       "{'name': 'ravi', 'age': 30, 'salary': 2000, 'status': True}"
      ]
     },
     "execution_count": 11,
     "metadata": {},
     "output_type": "execute_result"
    }
   ],
   "source": [
    "dt"
   ]
  },
  {
   "cell_type": "code",
   "execution_count": 12,
   "id": "d17871aa",
   "metadata": {},
   "outputs": [],
   "source": [
    "dt['desgination'] = 'software'"
   ]
  },
  {
   "cell_type": "code",
   "execution_count": 13,
   "id": "856c13fb",
   "metadata": {},
   "outputs": [
    {
     "data": {
      "text/plain": [
       "{'name': 'ravi',\n",
       " 'age': 30,\n",
       " 'salary': 2000,\n",
       " 'status': True,\n",
       " 'desgination': 'software'}"
      ]
     },
     "execution_count": 13,
     "metadata": {},
     "output_type": "execute_result"
    }
   ],
   "source": [
    "dt"
   ]
  },
  {
   "cell_type": "code",
   "execution_count": 14,
   "id": "fc1cb9b1",
   "metadata": {},
   "outputs": [],
   "source": [
    "dt1 = {'name':'sai','name':'ravi','age':25}"
   ]
  },
  {
   "cell_type": "code",
   "execution_count": 15,
   "id": "b36c591f",
   "metadata": {},
   "outputs": [
    {
     "data": {
      "text/plain": [
       "{'name': 'ravi', 'age': 25}"
      ]
     },
     "execution_count": 15,
     "metadata": {},
     "output_type": "execute_result"
    }
   ],
   "source": [
    "dt1"
   ]
  },
  {
   "cell_type": "code",
   "execution_count": 16,
   "id": "c09101eb",
   "metadata": {},
   "outputs": [],
   "source": [
    "dt2 = {'name':'mohan',123:100,45.67:200,(1,2):[1,2,3,4]}"
   ]
  },
  {
   "cell_type": "code",
   "execution_count": 17,
   "id": "97089f5e",
   "metadata": {},
   "outputs": [
    {
     "data": {
      "text/plain": [
       "{'name': 'mohan', 123: 100, 45.67: 200, (1, 2): [1, 2, 3, 4]}"
      ]
     },
     "execution_count": 17,
     "metadata": {},
     "output_type": "execute_result"
    }
   ],
   "source": [
    "dt2"
   ]
  },
  {
   "cell_type": "code",
   "execution_count": 18,
   "id": "0e77ecbd",
   "metadata": {},
   "outputs": [
    {
     "data": {
      "text/plain": [
       "'mohan'"
      ]
     },
     "execution_count": 18,
     "metadata": {},
     "output_type": "execute_result"
    }
   ],
   "source": [
    "dt2['name']"
   ]
  },
  {
   "cell_type": "code",
   "execution_count": 19,
   "id": "49e9f212",
   "metadata": {},
   "outputs": [
    {
     "data": {
      "text/plain": [
       "100"
      ]
     },
     "execution_count": 19,
     "metadata": {},
     "output_type": "execute_result"
    }
   ],
   "source": [
    "dt2[123]"
   ]
  },
  {
   "cell_type": "code",
   "execution_count": 20,
   "id": "d6e25da7",
   "metadata": {},
   "outputs": [
    {
     "data": {
      "text/plain": [
       "200"
      ]
     },
     "execution_count": 20,
     "metadata": {},
     "output_type": "execute_result"
    }
   ],
   "source": [
    "dt2[45.67]"
   ]
  },
  {
   "cell_type": "code",
   "execution_count": 21,
   "id": "a8730f38",
   "metadata": {},
   "outputs": [
    {
     "data": {
      "text/plain": [
       "[1, 2, 3, 4]"
      ]
     },
     "execution_count": 21,
     "metadata": {},
     "output_type": "execute_result"
    }
   ],
   "source": [
    "dt2[(1,2)]"
   ]
  },
  {
   "cell_type": "code",
   "execution_count": 22,
   "id": "e4c7cc4a",
   "metadata": {},
   "outputs": [
    {
     "ename": "TypeError",
     "evalue": "unhashable type: 'list'",
     "output_type": "error",
     "traceback": [
      "\u001b[1;31m---------------------------------------------------------------------------\u001b[0m",
      "\u001b[1;31mTypeError\u001b[0m                                 Traceback (most recent call last)",
      "Input \u001b[1;32mIn [22]\u001b[0m, in \u001b[0;36m<module>\u001b[1;34m\u001b[0m\n\u001b[1;32m----> 1\u001b[0m dt3 \u001b[38;5;241m=\u001b[39m {\u001b[38;5;124m'\u001b[39m\u001b[38;5;124mname\u001b[39m\u001b[38;5;124m'\u001b[39m:\u001b[38;5;124m'\u001b[39m\u001b[38;5;124mmohan\u001b[39m\u001b[38;5;124m'\u001b[39m,\u001b[38;5;241m123\u001b[39m:\u001b[38;5;241m100\u001b[39m,[\u001b[38;5;241m1\u001b[39m,\u001b[38;5;241m2\u001b[39m]:[\u001b[38;5;241m1\u001b[39m,\u001b[38;5;241m2\u001b[39m,\u001b[38;5;241m3\u001b[39m,\u001b[38;5;241m4\u001b[39m]}\n",
      "\u001b[1;31mTypeError\u001b[0m: unhashable type: 'list'"
     ]
    }
   ],
   "source": [
    "dt3 = {'name':'mohan',123:100,[1,2]:[1,2,3,4]}"
   ]
  },
  {
   "cell_type": "code",
   "execution_count": 23,
   "id": "50f4e696",
   "metadata": {},
   "outputs": [
    {
     "ename": "TypeError",
     "evalue": "unhashable type: 'dict'",
     "output_type": "error",
     "traceback": [
      "\u001b[1;31m---------------------------------------------------------------------------\u001b[0m",
      "\u001b[1;31mTypeError\u001b[0m                                 Traceback (most recent call last)",
      "Input \u001b[1;32mIn [23]\u001b[0m, in \u001b[0;36m<module>\u001b[1;34m\u001b[0m\n\u001b[1;32m----> 1\u001b[0m dt4 \u001b[38;5;241m=\u001b[39m {\u001b[38;5;124m'\u001b[39m\u001b[38;5;124mname\u001b[39m\u001b[38;5;124m'\u001b[39m:\u001b[38;5;124m'\u001b[39m\u001b[38;5;124mmohan\u001b[39m\u001b[38;5;124m'\u001b[39m,\u001b[38;5;241m123\u001b[39m:\u001b[38;5;241m100\u001b[39m,{\u001b[38;5;241m1\u001b[39m:\u001b[38;5;241m12345\u001b[39m}:[\u001b[38;5;241m1\u001b[39m,\u001b[38;5;241m2\u001b[39m,\u001b[38;5;241m3\u001b[39m,\u001b[38;5;241m4\u001b[39m]}\n",
      "\u001b[1;31mTypeError\u001b[0m: unhashable type: 'dict'"
     ]
    }
   ],
   "source": [
    "dt4 = {'name':'mohan',123:100,{1:12345}:[1,2,3,4]}"
   ]
  },
  {
   "cell_type": "code",
   "execution_count": 24,
   "id": "7e8f4893",
   "metadata": {},
   "outputs": [],
   "source": [
    "dt5 = {'name':'mohan', True:123}"
   ]
  },
  {
   "cell_type": "code",
   "execution_count": 25,
   "id": "de5fc6c1",
   "metadata": {},
   "outputs": [
    {
     "data": {
      "text/plain": [
       "{'name': 'mohan', True: 123}"
      ]
     },
     "execution_count": 25,
     "metadata": {},
     "output_type": "execute_result"
    }
   ],
   "source": [
    "dt5"
   ]
  },
  {
   "cell_type": "code",
   "execution_count": 26,
   "id": "3ad46ae1",
   "metadata": {},
   "outputs": [],
   "source": [
    "# mutables - list,dict and set\n",
    "\n",
    "#immutables - numbers(integers and floats),strings,boolean and tuple"
   ]
  },
  {
   "cell_type": "code",
   "execution_count": 27,
   "id": "34caf2e2",
   "metadata": {},
   "outputs": [
    {
     "data": {
      "text/plain": [
       "{'name': 'ravi',\n",
       " 'age': 30,\n",
       " 'salary': 2000,\n",
       " 'status': True,\n",
       " 'desgination': 'software'}"
      ]
     },
     "execution_count": 27,
     "metadata": {},
     "output_type": "execute_result"
    }
   ],
   "source": [
    "dt"
   ]
  },
  {
   "cell_type": "code",
   "execution_count": 28,
   "id": "f513e1cf",
   "metadata": {},
   "outputs": [
    {
     "data": {
      "text/plain": [
       "{'name': 'ravi', 'age': 25}"
      ]
     },
     "execution_count": 28,
     "metadata": {},
     "output_type": "execute_result"
    }
   ],
   "source": [
    "dt1"
   ]
  },
  {
   "cell_type": "code",
   "execution_count": 29,
   "id": "0f2beeb1",
   "metadata": {},
   "outputs": [
    {
     "data": {
      "text/plain": [
       "{'name': 'mohan', 123: 100, 45.67: 200, (1, 2): [1, 2, 3, 4]}"
      ]
     },
     "execution_count": 29,
     "metadata": {},
     "output_type": "execute_result"
    }
   ],
   "source": [
    "dt2"
   ]
  },
  {
   "cell_type": "code",
   "execution_count": 2,
   "id": "046c6479",
   "metadata": {},
   "outputs": [],
   "source": [
    "dt = {'name': 'ravi',\n",
    " 'age': 30,\n",
    " 123: 2000,\n",
    " 'status': True}"
   ]
  },
  {
   "cell_type": "code",
   "execution_count": 3,
   "id": "cb2447a8",
   "metadata": {},
   "outputs": [
    {
     "data": {
      "text/plain": [
       "{'name': 'ravi', 'age': 30, 123: 2000, 'status': True}"
      ]
     },
     "execution_count": 3,
     "metadata": {},
     "output_type": "execute_result"
    }
   ],
   "source": [
    "dt"
   ]
  },
  {
   "cell_type": "code",
   "execution_count": 35,
   "id": "bf817da1",
   "metadata": {},
   "outputs": [],
   "source": [
    "# dir(dt)\n",
    "\n",
    "# 'clear',\n",
    "#  'copy',\n",
    "#  'fromkeys',\n",
    "#  'get',\n",
    "#  'items',\n",
    "#  'keys',\n",
    "#  'pop',\n",
    "#  'popitem',\n",
    "#  'setdefault',\n",
    "#  'update',\n",
    "#  'values'"
   ]
  },
  {
   "cell_type": "code",
   "execution_count": 4,
   "id": "4e1f82d1",
   "metadata": {},
   "outputs": [
    {
     "data": {
      "text/plain": [
       "'ravi'"
      ]
     },
     "execution_count": 4,
     "metadata": {},
     "output_type": "execute_result"
    }
   ],
   "source": [
    "dt['name']"
   ]
  },
  {
   "cell_type": "code",
   "execution_count": 6,
   "id": "9f776845",
   "metadata": {},
   "outputs": [
    {
     "ename": "KeyError",
     "evalue": "'abc'",
     "output_type": "error",
     "traceback": [
      "\u001b[1;31m---------------------------------------------------------------------------\u001b[0m",
      "\u001b[1;31mKeyError\u001b[0m                                  Traceback (most recent call last)",
      "Input \u001b[1;32mIn [6]\u001b[0m, in \u001b[0;36m<module>\u001b[1;34m\u001b[0m\n\u001b[1;32m----> 1\u001b[0m \u001b[43mdt\u001b[49m\u001b[43m[\u001b[49m\u001b[38;5;124;43m'\u001b[39;49m\u001b[38;5;124;43mabc\u001b[39;49m\u001b[38;5;124;43m'\u001b[39;49m\u001b[43m]\u001b[49m\n",
      "\u001b[1;31mKeyError\u001b[0m: 'abc'"
     ]
    }
   ],
   "source": [
    "dt['abc']"
   ]
  },
  {
   "cell_type": "code",
   "execution_count": 5,
   "id": "943c3b42",
   "metadata": {},
   "outputs": [
    {
     "data": {
      "text/plain": [
       "'ravi'"
      ]
     },
     "execution_count": 5,
     "metadata": {},
     "output_type": "execute_result"
    }
   ],
   "source": [
    "# get\n",
    "\n",
    "dt.get('name')"
   ]
  },
  {
   "cell_type": "code",
   "execution_count": 7,
   "id": "a963de18",
   "metadata": {},
   "outputs": [],
   "source": [
    "dt.get('salary')"
   ]
  },
  {
   "cell_type": "code",
   "execution_count": 8,
   "id": "9de95391",
   "metadata": {},
   "outputs": [
    {
     "data": {
      "text/plain": [
       "dict_keys(['name', 'age', 123, 'status'])"
      ]
     },
     "execution_count": 8,
     "metadata": {},
     "output_type": "execute_result"
    }
   ],
   "source": [
    "# keys\n",
    "\n",
    "dt.keys()"
   ]
  },
  {
   "cell_type": "code",
   "execution_count": 9,
   "id": "13b39f77",
   "metadata": {},
   "outputs": [
    {
     "data": {
      "text/plain": [
       "dict_values(['ravi', 30, 2000, True])"
      ]
     },
     "execution_count": 9,
     "metadata": {},
     "output_type": "execute_result"
    }
   ],
   "source": [
    "# values\n",
    "\n",
    "dt.values()"
   ]
  },
  {
   "cell_type": "code",
   "execution_count": 10,
   "id": "8e939c1a",
   "metadata": {},
   "outputs": [
    {
     "data": {
      "text/plain": [
       "dict_items([('name', 'ravi'), ('age', 30), (123, 2000), ('status', True)])"
      ]
     },
     "execution_count": 10,
     "metadata": {},
     "output_type": "execute_result"
    }
   ],
   "source": [
    "# items\n",
    "\n",
    "dt.items()"
   ]
  },
  {
   "cell_type": "code",
   "execution_count": 11,
   "id": "ce50b14d",
   "metadata": {},
   "outputs": [
    {
     "data": {
      "text/plain": [
       "{'name': 'ravi', 'age': 30, 123: 2000, 'status': True}"
      ]
     },
     "execution_count": 11,
     "metadata": {},
     "output_type": "execute_result"
    }
   ],
   "source": [
    "\n",
    "dt"
   ]
  },
  {
   "cell_type": "code",
   "execution_count": 12,
   "id": "72fced57",
   "metadata": {},
   "outputs": [],
   "source": [
    "dt2 = {'salary':1000}"
   ]
  },
  {
   "cell_type": "code",
   "execution_count": 13,
   "id": "c8fcb424",
   "metadata": {},
   "outputs": [
    {
     "data": {
      "text/plain": [
       "{'salary': 1000}"
      ]
     },
     "execution_count": 13,
     "metadata": {},
     "output_type": "execute_result"
    }
   ],
   "source": [
    "dt2"
   ]
  },
  {
   "cell_type": "code",
   "execution_count": 14,
   "id": "8000dca3",
   "metadata": {},
   "outputs": [],
   "source": [
    "# update\n",
    "\n",
    "dt.update(dt2)"
   ]
  },
  {
   "cell_type": "code",
   "execution_count": 15,
   "id": "86f0f827",
   "metadata": {},
   "outputs": [
    {
     "data": {
      "text/plain": [
       "{'name': 'ravi', 'age': 30, 123: 2000, 'status': True, 'salary': 1000}"
      ]
     },
     "execution_count": 15,
     "metadata": {},
     "output_type": "execute_result"
    }
   ],
   "source": [
    "dt"
   ]
  },
  {
   "cell_type": "code",
   "execution_count": 16,
   "id": "0646728e",
   "metadata": {},
   "outputs": [
    {
     "data": {
      "text/plain": [
       "{'salary': 1000}"
      ]
     },
     "execution_count": 16,
     "metadata": {},
     "output_type": "execute_result"
    }
   ],
   "source": [
    "dt2"
   ]
  },
  {
   "cell_type": "code",
   "execution_count": 18,
   "id": "0025d69a",
   "metadata": {},
   "outputs": [
    {
     "data": {
      "text/plain": [
       "1000"
      ]
     },
     "execution_count": 18,
     "metadata": {},
     "output_type": "execute_result"
    }
   ],
   "source": [
    "# pop\n",
    "\n",
    "dt.pop('salary')"
   ]
  },
  {
   "cell_type": "code",
   "execution_count": 19,
   "id": "4478b612",
   "metadata": {},
   "outputs": [
    {
     "data": {
      "text/plain": [
       "2000"
      ]
     },
     "execution_count": 19,
     "metadata": {},
     "output_type": "execute_result"
    }
   ],
   "source": [
    "dt.pop(123)"
   ]
  },
  {
   "cell_type": "code",
   "execution_count": 20,
   "id": "a16b8b98",
   "metadata": {},
   "outputs": [
    {
     "data": {
      "text/plain": [
       "{'name': 'ravi', 'age': 30, 'status': True}"
      ]
     },
     "execution_count": 20,
     "metadata": {},
     "output_type": "execute_result"
    }
   ],
   "source": [
    "dt"
   ]
  },
  {
   "cell_type": "code",
   "execution_count": 21,
   "id": "4f811c63",
   "metadata": {},
   "outputs": [
    {
     "data": {
      "text/plain": [
       "('status', True)"
      ]
     },
     "execution_count": 21,
     "metadata": {},
     "output_type": "execute_result"
    }
   ],
   "source": [
    "# popitem\n",
    "\n",
    "dt.popitem()"
   ]
  },
  {
   "cell_type": "code",
   "execution_count": 22,
   "id": "b221b6ca",
   "metadata": {},
   "outputs": [
    {
     "data": {
      "text/plain": [
       "{'name': 'ravi', 'age': 30}"
      ]
     },
     "execution_count": 22,
     "metadata": {},
     "output_type": "execute_result"
    }
   ],
   "source": [
    "dt"
   ]
  },
  {
   "cell_type": "code",
   "execution_count": 23,
   "id": "a327e0f6",
   "metadata": {},
   "outputs": [
    {
     "data": {
      "text/plain": [
       "('age', 30)"
      ]
     },
     "execution_count": 23,
     "metadata": {},
     "output_type": "execute_result"
    }
   ],
   "source": [
    "dt.popitem()"
   ]
  },
  {
   "cell_type": "code",
   "execution_count": 24,
   "id": "5225a01c",
   "metadata": {},
   "outputs": [
    {
     "data": {
      "text/plain": [
       "{'name': 'ravi'}"
      ]
     },
     "execution_count": 24,
     "metadata": {},
     "output_type": "execute_result"
    }
   ],
   "source": [
    "dt"
   ]
  },
  {
   "cell_type": "code",
   "execution_count": 25,
   "id": "79444da6",
   "metadata": {},
   "outputs": [
    {
     "data": {
      "text/plain": [
       "'ravi'"
      ]
     },
     "execution_count": 25,
     "metadata": {},
     "output_type": "execute_result"
    }
   ],
   "source": [
    "# setdefault\n",
    "\n",
    "dt.setdefault('name')"
   ]
  },
  {
   "cell_type": "code",
   "execution_count": 26,
   "id": "aaeb5f0e",
   "metadata": {},
   "outputs": [
    {
     "data": {
      "text/plain": [
       "{'name': 'ravi'}"
      ]
     },
     "execution_count": 26,
     "metadata": {},
     "output_type": "execute_result"
    }
   ],
   "source": [
    "dt"
   ]
  },
  {
   "cell_type": "code",
   "execution_count": 27,
   "id": "4fe8c9db",
   "metadata": {},
   "outputs": [],
   "source": [
    "dt.setdefault('age')"
   ]
  },
  {
   "cell_type": "code",
   "execution_count": 28,
   "id": "08ceab3b",
   "metadata": {},
   "outputs": [
    {
     "data": {
      "text/plain": [
       "{'name': 'ravi', 'age': None}"
      ]
     },
     "execution_count": 28,
     "metadata": {},
     "output_type": "execute_result"
    }
   ],
   "source": [
    "dt"
   ]
  },
  {
   "cell_type": "code",
   "execution_count": 29,
   "id": "e0d437af",
   "metadata": {},
   "outputs": [
    {
     "data": {
      "text/plain": [
       "1000"
      ]
     },
     "execution_count": 29,
     "metadata": {},
     "output_type": "execute_result"
    }
   ],
   "source": [
    "dt.setdefault('salary',1000)"
   ]
  },
  {
   "cell_type": "code",
   "execution_count": 30,
   "id": "b3a48a1a",
   "metadata": {},
   "outputs": [
    {
     "data": {
      "text/plain": [
       "{'name': 'ravi', 'age': None, 'salary': 1000}"
      ]
     },
     "execution_count": 30,
     "metadata": {},
     "output_type": "execute_result"
    }
   ],
   "source": [
    "dt"
   ]
  },
  {
   "cell_type": "code",
   "execution_count": 31,
   "id": "fcd2b5fb",
   "metadata": {},
   "outputs": [
    {
     "data": {
      "text/plain": [
       "'ravi'"
      ]
     },
     "execution_count": 31,
     "metadata": {},
     "output_type": "execute_result"
    }
   ],
   "source": [
    "dt.setdefault('name','srinu')"
   ]
  },
  {
   "cell_type": "code",
   "execution_count": 33,
   "id": "10784da3",
   "metadata": {},
   "outputs": [
    {
     "data": {
      "text/plain": [
       "{'name': 'ravi', 'age': None, 'salary': 1000}"
      ]
     },
     "execution_count": 33,
     "metadata": {},
     "output_type": "execute_result"
    }
   ],
   "source": [
    "dt"
   ]
  },
  {
   "cell_type": "code",
   "execution_count": 38,
   "id": "f3e4a913",
   "metadata": {},
   "outputs": [],
   "source": [
    "# fromkeys\n",
    "\n",
    "lst = ['a','b','c','c','a']\n",
    "\n",
    "st = 'madam'"
   ]
  },
  {
   "cell_type": "code",
   "execution_count": 39,
   "id": "049e8714",
   "metadata": {},
   "outputs": [],
   "source": [
    "d = dict.fromkeys(lst)"
   ]
  },
  {
   "cell_type": "code",
   "execution_count": 40,
   "id": "0621e816",
   "metadata": {},
   "outputs": [
    {
     "data": {
      "text/plain": [
       "{'a': None, 'b': None, 'c': None}"
      ]
     },
     "execution_count": 40,
     "metadata": {},
     "output_type": "execute_result"
    }
   ],
   "source": [
    "d"
   ]
  },
  {
   "cell_type": "code",
   "execution_count": 41,
   "id": "1d3cad9e",
   "metadata": {},
   "outputs": [],
   "source": [
    "dd = dict.fromkeys(lst,100)"
   ]
  },
  {
   "cell_type": "code",
   "execution_count": 42,
   "id": "de776b66",
   "metadata": {},
   "outputs": [
    {
     "data": {
      "text/plain": [
       "{'a': 100, 'b': 100, 'c': 100}"
      ]
     },
     "execution_count": 42,
     "metadata": {},
     "output_type": "execute_result"
    }
   ],
   "source": [
    "dd"
   ]
  },
  {
   "cell_type": "code",
   "execution_count": 43,
   "id": "a8e00ee6",
   "metadata": {},
   "outputs": [],
   "source": [
    "d3 = dict.fromkeys(st,200)"
   ]
  },
  {
   "cell_type": "code",
   "execution_count": 44,
   "id": "665999a5",
   "metadata": {},
   "outputs": [
    {
     "data": {
      "text/plain": [
       "{'m': 200, 'a': 200, 'd': 200}"
      ]
     },
     "execution_count": 44,
     "metadata": {},
     "output_type": "execute_result"
    }
   ],
   "source": [
    "d3"
   ]
  },
  {
   "cell_type": "code",
   "execution_count": 46,
   "id": "317ce049",
   "metadata": {},
   "outputs": [],
   "source": [
    "d4 = dict.fromkeys(dt,123)"
   ]
  },
  {
   "cell_type": "code",
   "execution_count": 47,
   "id": "17a9a6b1",
   "metadata": {},
   "outputs": [
    {
     "data": {
      "text/plain": [
       "{'name': 123, 'age': 123, 'salary': 123}"
      ]
     },
     "execution_count": 47,
     "metadata": {},
     "output_type": "execute_result"
    }
   ],
   "source": [
    "d4"
   ]
  },
  {
   "cell_type": "code",
   "execution_count": 48,
   "id": "1f76ffae",
   "metadata": {},
   "outputs": [],
   "source": [
    "# copy\n",
    "\n",
    "d5 = dt.copy()"
   ]
  },
  {
   "cell_type": "code",
   "execution_count": 49,
   "id": "e1e1ee5d",
   "metadata": {},
   "outputs": [
    {
     "data": {
      "text/plain": [
       "{'name': 'ravi', 'age': None, 'salary': 1000}"
      ]
     },
     "execution_count": 49,
     "metadata": {},
     "output_type": "execute_result"
    }
   ],
   "source": [
    "d5"
   ]
  },
  {
   "cell_type": "code",
   "execution_count": 50,
   "id": "44fec0ba",
   "metadata": {},
   "outputs": [],
   "source": [
    "# clear\n",
    "\n",
    "d5.clear()"
   ]
  },
  {
   "cell_type": "code",
   "execution_count": 51,
   "id": "978b66d7",
   "metadata": {},
   "outputs": [
    {
     "data": {
      "text/plain": [
       "{}"
      ]
     },
     "execution_count": 51,
     "metadata": {},
     "output_type": "execute_result"
    }
   ],
   "source": [
    "d5"
   ]
  },
  {
   "cell_type": "code",
   "execution_count": 52,
   "id": "f7fcc785",
   "metadata": {},
   "outputs": [
    {
     "data": {
      "text/plain": [
       "{'name': 'ravi', 'age': None, 'salary': 1000}"
      ]
     },
     "execution_count": 52,
     "metadata": {},
     "output_type": "execute_result"
    }
   ],
   "source": [
    "dt"
   ]
  },
  {
   "cell_type": "code",
   "execution_count": null,
   "id": "433305b2",
   "metadata": {},
   "outputs": [],
   "source": []
  }
 ],
 "metadata": {
  "kernelspec": {
   "display_name": "Python 3 (ipykernel)",
   "language": "python",
   "name": "python3"
  },
  "language_info": {
   "codemirror_mode": {
    "name": "ipython",
    "version": 3
   },
   "file_extension": ".py",
   "mimetype": "text/x-python",
   "name": "python",
   "nbconvert_exporter": "python",
   "pygments_lexer": "ipython3",
   "version": "3.8.3"
  }
 },
 "nbformat": 4,
 "nbformat_minor": 5
}
