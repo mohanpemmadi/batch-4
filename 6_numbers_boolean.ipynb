{
 "cells": [
  {
   "cell_type": "code",
   "execution_count": 1,
   "id": "bb5f493c",
   "metadata": {},
   "outputs": [],
   "source": [
    "# Numbers"
   ]
  },
  {
   "cell_type": "code",
   "execution_count": 2,
   "id": "d3fbff93",
   "metadata": {},
   "outputs": [],
   "source": [
    "# integer"
   ]
  },
  {
   "cell_type": "code",
   "execution_count": 3,
   "id": "5bb96ab5",
   "metadata": {},
   "outputs": [],
   "source": [
    "value = 100"
   ]
  },
  {
   "cell_type": "code",
   "execution_count": 4,
   "id": "e4a661a5",
   "metadata": {},
   "outputs": [
    {
     "data": {
      "text/plain": [
       "int"
      ]
     },
     "execution_count": 4,
     "metadata": {},
     "output_type": "execute_result"
    }
   ],
   "source": [
    "type(value)"
   ]
  },
  {
   "cell_type": "code",
   "execution_count": 5,
   "id": "8bf24235",
   "metadata": {},
   "outputs": [],
   "source": [
    "x = 124"
   ]
  },
  {
   "cell_type": "code",
   "execution_count": 6,
   "id": "6260d3b0",
   "metadata": {},
   "outputs": [
    {
     "data": {
      "text/plain": [
       "124"
      ]
     },
     "execution_count": 6,
     "metadata": {},
     "output_type": "execute_result"
    }
   ],
   "source": [
    "x"
   ]
  },
  {
   "cell_type": "code",
   "execution_count": 7,
   "id": "6ed68703",
   "metadata": {},
   "outputs": [
    {
     "data": {
      "text/plain": [
       "int"
      ]
     },
     "execution_count": 7,
     "metadata": {},
     "output_type": "execute_result"
    }
   ],
   "source": [
    "type(x)"
   ]
  },
  {
   "cell_type": "code",
   "execution_count": 8,
   "id": "13007389",
   "metadata": {},
   "outputs": [],
   "source": [
    "# float"
   ]
  },
  {
   "cell_type": "code",
   "execution_count": 9,
   "id": "d90fe8c2",
   "metadata": {},
   "outputs": [],
   "source": [
    "value = 100.0"
   ]
  },
  {
   "cell_type": "code",
   "execution_count": 10,
   "id": "edb5dd08",
   "metadata": {},
   "outputs": [
    {
     "data": {
      "text/plain": [
       "float"
      ]
     },
     "execution_count": 10,
     "metadata": {},
     "output_type": "execute_result"
    }
   ],
   "source": [
    "type(value)"
   ]
  },
  {
   "cell_type": "code",
   "execution_count": 11,
   "id": "5255ca43",
   "metadata": {},
   "outputs": [],
   "source": [
    "x = 124.56"
   ]
  },
  {
   "cell_type": "code",
   "execution_count": 12,
   "id": "90a067bb",
   "metadata": {},
   "outputs": [
    {
     "data": {
      "text/plain": [
       "float"
      ]
     },
     "execution_count": 12,
     "metadata": {},
     "output_type": "execute_result"
    }
   ],
   "source": [
    "type(x)"
   ]
  },
  {
   "cell_type": "code",
   "execution_count": 13,
   "id": "ae2a8a2b",
   "metadata": {},
   "outputs": [],
   "source": [
    "# boolean"
   ]
  },
  {
   "cell_type": "code",
   "execution_count": 14,
   "id": "dfa27927",
   "metadata": {},
   "outputs": [],
   "source": [
    "active = True"
   ]
  },
  {
   "cell_type": "code",
   "execution_count": 15,
   "id": "035866f3",
   "metadata": {},
   "outputs": [
    {
     "data": {
      "text/plain": [
       "True"
      ]
     },
     "execution_count": 15,
     "metadata": {},
     "output_type": "execute_result"
    }
   ],
   "source": [
    "active"
   ]
  },
  {
   "cell_type": "code",
   "execution_count": 16,
   "id": "c28e6095",
   "metadata": {},
   "outputs": [
    {
     "data": {
      "text/plain": [
       "bool"
      ]
     },
     "execution_count": 16,
     "metadata": {},
     "output_type": "execute_result"
    }
   ],
   "source": [
    "type(active)"
   ]
  },
  {
   "cell_type": "code",
   "execution_count": 17,
   "id": "86a9f666",
   "metadata": {},
   "outputs": [],
   "source": [
    "status = False"
   ]
  },
  {
   "cell_type": "code",
   "execution_count": 18,
   "id": "2fa33986",
   "metadata": {},
   "outputs": [
    {
     "data": {
      "text/plain": [
       "False"
      ]
     },
     "execution_count": 18,
     "metadata": {},
     "output_type": "execute_result"
    }
   ],
   "source": [
    "status"
   ]
  },
  {
   "cell_type": "code",
   "execution_count": 19,
   "id": "2656a343",
   "metadata": {},
   "outputs": [],
   "source": [
    "name1 = 'ravi'\n",
    "name2 = 'sai'\n",
    "name3 = 'sai'"
   ]
  },
  {
   "cell_type": "code",
   "execution_count": 20,
   "id": "d04617df",
   "metadata": {},
   "outputs": [
    {
     "data": {
      "text/plain": [
       "False"
      ]
     },
     "execution_count": 20,
     "metadata": {},
     "output_type": "execute_result"
    }
   ],
   "source": [
    "name1 == name2"
   ]
  },
  {
   "cell_type": "code",
   "execution_count": 21,
   "id": "68e2b29b",
   "metadata": {},
   "outputs": [
    {
     "data": {
      "text/plain": [
       "True"
      ]
     },
     "execution_count": 21,
     "metadata": {},
     "output_type": "execute_result"
    }
   ],
   "source": [
    "name2 == name3"
   ]
  },
  {
   "cell_type": "code",
   "execution_count": null,
   "id": "cdaa6810",
   "metadata": {},
   "outputs": [],
   "source": []
  }
 ],
 "metadata": {
  "kernelspec": {
   "display_name": "Python 3 (ipykernel)",
   "language": "python",
   "name": "python3"
  },
  "language_info": {
   "codemirror_mode": {
    "name": "ipython",
    "version": 3
   },
   "file_extension": ".py",
   "mimetype": "text/x-python",
   "name": "python",
   "nbconvert_exporter": "python",
   "pygments_lexer": "ipython3",
   "version": "3.8.3"
  }
 },
 "nbformat": 4,
 "nbformat_minor": 5
}
